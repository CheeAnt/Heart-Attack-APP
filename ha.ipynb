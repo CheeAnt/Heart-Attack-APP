{
  "nbformat": 4,
  "nbformat_minor": 0,
  "metadata": {
    "colab": {
      "name": "ha.ipynb",
      "provenance": [],
      "collapsed_sections": [
        "VsFtGyDW8UCP",
        "EN6y0uQMqDNh",
        "kelEYKiK4tPh"
      ]
    },
    "kernelspec": {
      "name": "python3",
      "display_name": "Python 3"
    },
    "language_info": {
      "name": "python"
    }
  },
  "cells": [
    {
      "cell_type": "markdown",
      "source": [
        "# Heart Predict Prediction\n",
        "- A classification problem to predict whether someone has heart attack\n",
        "- [Source Data](https://www.kaggle.com/datasets/rashikrahmanpritom/heart-attack-analysis-prediction-dataset/code?sort=votes)"
      ],
      "metadata": {
        "id": "F3mLVpNp8Ed8"
      }
    },
    {
      "cell_type": "markdown",
      "source": [
        "# Importing Libraries"
      ],
      "metadata": {
        "id": "jaubCW7n78gF"
      }
    },
    {
      "cell_type": "code",
      "source": [
        "import os\n",
        "import pickle\n",
        "import numpy as np \n",
        "import pandas as pd\n",
        "import seaborn as sns \n",
        "import scipy.stats as ss\n",
        "import matplotlib.pyplot as plt\n",
        "\n",
        "from sklearn.pipeline import Pipeline\n",
        "from sklearn.model_selection import cross_val_score\n",
        "from sklearn.model_selection import \\\n",
        "    train_test_split, GridSearchCV\n",
        "from sklearn.preprocessing import \\\n",
        "    LabelEncoder, MinMaxScaler, StandardScaler\n",
        "\n",
        "from sklearn.linear_model import \\\n",
        "    LogisticRegression, LinearRegression\n",
        "\n",
        "from sklearn.ensemble import \\\n",
        "    RandomForestClassifier, GradientBoostingClassifier\n",
        "\n",
        "from sklearn.neighbors import KNeighborsClassifier\n",
        "from sklearn.tree import DecisionTreeClassifier\n",
        "from sklearn.svm import SVC ,SVR\n",
        "\n",
        "from sklearn.metrics import \\\n",
        "    f1_score, confusion_matrix, accuracy_score, classification_report\n",
        "\n",
        "from sklearn.metrics import ConfusionMatrixDisplay"
      ],
      "metadata": {
        "id": "8_xc49dF8DlM"
      },
      "execution_count": 134,
      "outputs": []
    },
    {
      "cell_type": "code",
      "source": [
        "#Cramers Function\n",
        "def cramers_corrected_stat(confusion_matrix):\n",
        "    \"\"\" calculate Cramers V statistic for categorial-categorial association.\n",
        "        uses correction from Bergsma and Wicher,\n",
        "        Journal of the Korean Statistical Society 42 (2013): 323-328\n",
        "    \"\"\"\n",
        "    chi2 = ss.chi2_contingency(confusion_matrix)[0]\n",
        "    n = confusion_matrix.sum()\n",
        "    phi2 = chi2/n\n",
        "    r,k = confusion_matrix.shape\n",
        "    phi2corr = max(0, phi2 - ((k-1)*(r-1))/(n-1))  \n",
        "    rcorr = r - ((r-1)**2)/(n-1)\n",
        "    kcorr = k - ((k-1)**2)/(n-1)\n",
        "    return np.sqrt(phi2corr / min( (kcorr-1), (rcorr-1)))"
      ],
      "metadata": {
        "id": "UX3ZThhDBO6w"
      },
      "execution_count": null,
      "outputs": []
    },
    {
      "cell_type": "code",
      "source": [
        "# constants \n",
        "## clean path!\n",
        "CSV_PATH = os.path.join(os.getcwd(),'heart.csv')\n",
        "BEST_ESTIMATOR_SAVE_PATH=os.path.join(os.getcwd(),'best_estimator.pkl')"
      ],
      "metadata": {
        "id": "s01E7kDQw8rI"
      },
      "execution_count": null,
      "outputs": []
    },
    {
      "cell_type": "code",
      "source": [
        "def plot_con_graph(con_col,df,c):\n",
        "  '''\n",
        "  This function is meant to plot continuos data using seaborn distplot function\n",
        "\n",
        "  Parameters\n",
        "  ----------\n",
        "  con : LIST\n",
        "      con_col contains the name of the categorical columns.\n",
        "  df : DATAFRAME\n",
        "      DESCRIPTION\n",
        "  c : str\n",
        "      String that sets the colour of the plot\n",
        "\n",
        "  Returns\n",
        "  -------\n",
        "  None.\n",
        "  '''\n",
        "\n",
        "  for i in con_col:\n",
        "    plt.figure()\n",
        "    sns.distplot(df[i],color='c')\n",
        "    plt.show()"
      ],
      "metadata": {
        "id": "vdcM3Rsr5fRC"
      },
      "execution_count": null,
      "outputs": []
    },
    {
      "cell_type": "markdown",
      "source": [
        "# 1) Data Loading"
      ],
      "metadata": {
        "id": "VsFtGyDW8UCP"
      }
    },
    {
      "cell_type": "code",
      "source": [
        "# constants\n",
        "# from google.colab import drive\n",
        "# drive.mount('/content/drive')\n",
        "\n",
        "df = pd.read_csv(CSV_PATH)\n"
      ],
      "metadata": {
        "id": "SgR1MNEF8OHf"
      },
      "execution_count": null,
      "outputs": []
    },
    {
      "cell_type": "code",
      "source": [
        "df.head()"
      ],
      "metadata": {
        "id": "JP_gEmI08Xv7",
        "colab": {
          "base_uri": "https://localhost:8080/",
          "height": 206
        },
        "outputId": "12aa7f43-2c00-4c72-a96b-961b53742308"
      },
      "execution_count": null,
      "outputs": [
        {
          "output_type": "execute_result",
          "data": {
            "text/plain": [
              "   age  sex  cp  trtbps  chol  fbs  restecg  thalachh  exng  oldpeak  slp  \\\n",
              "0   63    1   3     145   233    1        0       150     0      2.3    0   \n",
              "1   37    1   2     130   250    0        1       187     0      3.5    0   \n",
              "2   41    0   1     130   204    0        0       172     0      1.4    2   \n",
              "3   56    1   1     120   236    0        1       178     0      0.8    2   \n",
              "4   57    0   0     120   354    0        1       163     1      0.6    2   \n",
              "\n",
              "   caa  thall  output  \n",
              "0    0      1       1  \n",
              "1    0      2       1  \n",
              "2    0      2       1  \n",
              "3    0      2       1  \n",
              "4    0      2       1  "
            ],
            "text/html": [
              "\n",
              "  <div id=\"df-8191c18e-f197-4365-a049-ae2355809c76\">\n",
              "    <div class=\"colab-df-container\">\n",
              "      <div>\n",
              "<style scoped>\n",
              "    .dataframe tbody tr th:only-of-type {\n",
              "        vertical-align: middle;\n",
              "    }\n",
              "\n",
              "    .dataframe tbody tr th {\n",
              "        vertical-align: top;\n",
              "    }\n",
              "\n",
              "    .dataframe thead th {\n",
              "        text-align: right;\n",
              "    }\n",
              "</style>\n",
              "<table border=\"1\" class=\"dataframe\">\n",
              "  <thead>\n",
              "    <tr style=\"text-align: right;\">\n",
              "      <th></th>\n",
              "      <th>age</th>\n",
              "      <th>sex</th>\n",
              "      <th>cp</th>\n",
              "      <th>trtbps</th>\n",
              "      <th>chol</th>\n",
              "      <th>fbs</th>\n",
              "      <th>restecg</th>\n",
              "      <th>thalachh</th>\n",
              "      <th>exng</th>\n",
              "      <th>oldpeak</th>\n",
              "      <th>slp</th>\n",
              "      <th>caa</th>\n",
              "      <th>thall</th>\n",
              "      <th>output</th>\n",
              "    </tr>\n",
              "  </thead>\n",
              "  <tbody>\n",
              "    <tr>\n",
              "      <th>0</th>\n",
              "      <td>63</td>\n",
              "      <td>1</td>\n",
              "      <td>3</td>\n",
              "      <td>145</td>\n",
              "      <td>233</td>\n",
              "      <td>1</td>\n",
              "      <td>0</td>\n",
              "      <td>150</td>\n",
              "      <td>0</td>\n",
              "      <td>2.3</td>\n",
              "      <td>0</td>\n",
              "      <td>0</td>\n",
              "      <td>1</td>\n",
              "      <td>1</td>\n",
              "    </tr>\n",
              "    <tr>\n",
              "      <th>1</th>\n",
              "      <td>37</td>\n",
              "      <td>1</td>\n",
              "      <td>2</td>\n",
              "      <td>130</td>\n",
              "      <td>250</td>\n",
              "      <td>0</td>\n",
              "      <td>1</td>\n",
              "      <td>187</td>\n",
              "      <td>0</td>\n",
              "      <td>3.5</td>\n",
              "      <td>0</td>\n",
              "      <td>0</td>\n",
              "      <td>2</td>\n",
              "      <td>1</td>\n",
              "    </tr>\n",
              "    <tr>\n",
              "      <th>2</th>\n",
              "      <td>41</td>\n",
              "      <td>0</td>\n",
              "      <td>1</td>\n",
              "      <td>130</td>\n",
              "      <td>204</td>\n",
              "      <td>0</td>\n",
              "      <td>0</td>\n",
              "      <td>172</td>\n",
              "      <td>0</td>\n",
              "      <td>1.4</td>\n",
              "      <td>2</td>\n",
              "      <td>0</td>\n",
              "      <td>2</td>\n",
              "      <td>1</td>\n",
              "    </tr>\n",
              "    <tr>\n",
              "      <th>3</th>\n",
              "      <td>56</td>\n",
              "      <td>1</td>\n",
              "      <td>1</td>\n",
              "      <td>120</td>\n",
              "      <td>236</td>\n",
              "      <td>0</td>\n",
              "      <td>1</td>\n",
              "      <td>178</td>\n",
              "      <td>0</td>\n",
              "      <td>0.8</td>\n",
              "      <td>2</td>\n",
              "      <td>0</td>\n",
              "      <td>2</td>\n",
              "      <td>1</td>\n",
              "    </tr>\n",
              "    <tr>\n",
              "      <th>4</th>\n",
              "      <td>57</td>\n",
              "      <td>0</td>\n",
              "      <td>0</td>\n",
              "      <td>120</td>\n",
              "      <td>354</td>\n",
              "      <td>0</td>\n",
              "      <td>1</td>\n",
              "      <td>163</td>\n",
              "      <td>1</td>\n",
              "      <td>0.6</td>\n",
              "      <td>2</td>\n",
              "      <td>0</td>\n",
              "      <td>2</td>\n",
              "      <td>1</td>\n",
              "    </tr>\n",
              "  </tbody>\n",
              "</table>\n",
              "</div>\n",
              "      <button class=\"colab-df-convert\" onclick=\"convertToInteractive('df-8191c18e-f197-4365-a049-ae2355809c76')\"\n",
              "              title=\"Convert this dataframe to an interactive table.\"\n",
              "              style=\"display:none;\">\n",
              "        \n",
              "  <svg xmlns=\"http://www.w3.org/2000/svg\" height=\"24px\"viewBox=\"0 0 24 24\"\n",
              "       width=\"24px\">\n",
              "    <path d=\"M0 0h24v24H0V0z\" fill=\"none\"/>\n",
              "    <path d=\"M18.56 5.44l.94 2.06.94-2.06 2.06-.94-2.06-.94-.94-2.06-.94 2.06-2.06.94zm-11 1L8.5 8.5l.94-2.06 2.06-.94-2.06-.94L8.5 2.5l-.94 2.06-2.06.94zm10 10l.94 2.06.94-2.06 2.06-.94-2.06-.94-.94-2.06-.94 2.06-2.06.94z\"/><path d=\"M17.41 7.96l-1.37-1.37c-.4-.4-.92-.59-1.43-.59-.52 0-1.04.2-1.43.59L10.3 9.45l-7.72 7.72c-.78.78-.78 2.05 0 2.83L4 21.41c.39.39.9.59 1.41.59.51 0 1.02-.2 1.41-.59l7.78-7.78 2.81-2.81c.8-.78.8-2.07 0-2.86zM5.41 20L4 18.59l7.72-7.72 1.47 1.35L5.41 20z\"/>\n",
              "  </svg>\n",
              "      </button>\n",
              "      \n",
              "  <style>\n",
              "    .colab-df-container {\n",
              "      display:flex;\n",
              "      flex-wrap:wrap;\n",
              "      gap: 12px;\n",
              "    }\n",
              "\n",
              "    .colab-df-convert {\n",
              "      background-color: #E8F0FE;\n",
              "      border: none;\n",
              "      border-radius: 50%;\n",
              "      cursor: pointer;\n",
              "      display: none;\n",
              "      fill: #1967D2;\n",
              "      height: 32px;\n",
              "      padding: 0 0 0 0;\n",
              "      width: 32px;\n",
              "    }\n",
              "\n",
              "    .colab-df-convert:hover {\n",
              "      background-color: #E2EBFA;\n",
              "      box-shadow: 0px 1px 2px rgba(60, 64, 67, 0.3), 0px 1px 3px 1px rgba(60, 64, 67, 0.15);\n",
              "      fill: #174EA6;\n",
              "    }\n",
              "\n",
              "    [theme=dark] .colab-df-convert {\n",
              "      background-color: #3B4455;\n",
              "      fill: #D2E3FC;\n",
              "    }\n",
              "\n",
              "    [theme=dark] .colab-df-convert:hover {\n",
              "      background-color: #434B5C;\n",
              "      box-shadow: 0px 1px 3px 1px rgba(0, 0, 0, 0.15);\n",
              "      filter: drop-shadow(0px 1px 2px rgba(0, 0, 0, 0.3));\n",
              "      fill: #FFFFFF;\n",
              "    }\n",
              "  </style>\n",
              "\n",
              "      <script>\n",
              "        const buttonEl =\n",
              "          document.querySelector('#df-8191c18e-f197-4365-a049-ae2355809c76 button.colab-df-convert');\n",
              "        buttonEl.style.display =\n",
              "          google.colab.kernel.accessAllowed ? 'block' : 'none';\n",
              "\n",
              "        async function convertToInteractive(key) {\n",
              "          const element = document.querySelector('#df-8191c18e-f197-4365-a049-ae2355809c76');\n",
              "          const dataTable =\n",
              "            await google.colab.kernel.invokeFunction('convertToInteractive',\n",
              "                                                     [key], {});\n",
              "          if (!dataTable) return;\n",
              "\n",
              "          const docLinkHtml = 'Like what you see? Visit the ' +\n",
              "            '<a target=\"_blank\" href=https://colab.research.google.com/notebooks/data_table.ipynb>data table notebook</a>'\n",
              "            + ' to learn more about interactive tables.';\n",
              "          element.innerHTML = '';\n",
              "          dataTable['output_type'] = 'display_data';\n",
              "          await google.colab.output.renderOutput(dataTable, element);\n",
              "          const docLink = document.createElement('div');\n",
              "          docLink.innerHTML = docLinkHtml;\n",
              "          element.appendChild(docLink);\n",
              "        }\n",
              "      </script>\n",
              "    </div>\n",
              "  </div>\n",
              "  "
            ]
          },
          "metadata": {},
          "execution_count": 93
        }
      ]
    },
    {
      "cell_type": "code",
      "source": [
        "df.describe().T"
      ],
      "metadata": {
        "id": "GmwYXCMs8YU6",
        "colab": {
          "base_uri": "https://localhost:8080/",
          "height": 488
        },
        "outputId": "ea901cb2-273c-42b4-8cdb-c43693920e8a"
      },
      "execution_count": null,
      "outputs": [
        {
          "output_type": "execute_result",
          "data": {
            "text/plain": [
              "          count        mean        std    min    25%    50%    75%    max\n",
              "age       303.0   54.366337   9.082101   29.0   47.5   55.0   61.0   77.0\n",
              "sex       303.0    0.683168   0.466011    0.0    0.0    1.0    1.0    1.0\n",
              "cp        303.0    0.966997   1.032052    0.0    0.0    1.0    2.0    3.0\n",
              "trtbps    303.0  131.623762  17.538143   94.0  120.0  130.0  140.0  200.0\n",
              "chol      303.0  246.264026  51.830751  126.0  211.0  240.0  274.5  564.0\n",
              "fbs       303.0    0.148515   0.356198    0.0    0.0    0.0    0.0    1.0\n",
              "restecg   303.0    0.528053   0.525860    0.0    0.0    1.0    1.0    2.0\n",
              "thalachh  303.0  149.646865  22.905161   71.0  133.5  153.0  166.0  202.0\n",
              "exng      303.0    0.326733   0.469794    0.0    0.0    0.0    1.0    1.0\n",
              "oldpeak   303.0    1.039604   1.161075    0.0    0.0    0.8    1.6    6.2\n",
              "slp       303.0    1.399340   0.616226    0.0    1.0    1.0    2.0    2.0\n",
              "caa       303.0    0.729373   1.022606    0.0    0.0    0.0    1.0    4.0\n",
              "thall     303.0    2.313531   0.612277    0.0    2.0    2.0    3.0    3.0\n",
              "output    303.0    0.544554   0.498835    0.0    0.0    1.0    1.0    1.0"
            ],
            "text/html": [
              "\n",
              "  <div id=\"df-d01a6df3-5baa-4e5a-a2a4-f6f5aac43b64\">\n",
              "    <div class=\"colab-df-container\">\n",
              "      <div>\n",
              "<style scoped>\n",
              "    .dataframe tbody tr th:only-of-type {\n",
              "        vertical-align: middle;\n",
              "    }\n",
              "\n",
              "    .dataframe tbody tr th {\n",
              "        vertical-align: top;\n",
              "    }\n",
              "\n",
              "    .dataframe thead th {\n",
              "        text-align: right;\n",
              "    }\n",
              "</style>\n",
              "<table border=\"1\" class=\"dataframe\">\n",
              "  <thead>\n",
              "    <tr style=\"text-align: right;\">\n",
              "      <th></th>\n",
              "      <th>count</th>\n",
              "      <th>mean</th>\n",
              "      <th>std</th>\n",
              "      <th>min</th>\n",
              "      <th>25%</th>\n",
              "      <th>50%</th>\n",
              "      <th>75%</th>\n",
              "      <th>max</th>\n",
              "    </tr>\n",
              "  </thead>\n",
              "  <tbody>\n",
              "    <tr>\n",
              "      <th>age</th>\n",
              "      <td>303.0</td>\n",
              "      <td>54.366337</td>\n",
              "      <td>9.082101</td>\n",
              "      <td>29.0</td>\n",
              "      <td>47.5</td>\n",
              "      <td>55.0</td>\n",
              "      <td>61.0</td>\n",
              "      <td>77.0</td>\n",
              "    </tr>\n",
              "    <tr>\n",
              "      <th>sex</th>\n",
              "      <td>303.0</td>\n",
              "      <td>0.683168</td>\n",
              "      <td>0.466011</td>\n",
              "      <td>0.0</td>\n",
              "      <td>0.0</td>\n",
              "      <td>1.0</td>\n",
              "      <td>1.0</td>\n",
              "      <td>1.0</td>\n",
              "    </tr>\n",
              "    <tr>\n",
              "      <th>cp</th>\n",
              "      <td>303.0</td>\n",
              "      <td>0.966997</td>\n",
              "      <td>1.032052</td>\n",
              "      <td>0.0</td>\n",
              "      <td>0.0</td>\n",
              "      <td>1.0</td>\n",
              "      <td>2.0</td>\n",
              "      <td>3.0</td>\n",
              "    </tr>\n",
              "    <tr>\n",
              "      <th>trtbps</th>\n",
              "      <td>303.0</td>\n",
              "      <td>131.623762</td>\n",
              "      <td>17.538143</td>\n",
              "      <td>94.0</td>\n",
              "      <td>120.0</td>\n",
              "      <td>130.0</td>\n",
              "      <td>140.0</td>\n",
              "      <td>200.0</td>\n",
              "    </tr>\n",
              "    <tr>\n",
              "      <th>chol</th>\n",
              "      <td>303.0</td>\n",
              "      <td>246.264026</td>\n",
              "      <td>51.830751</td>\n",
              "      <td>126.0</td>\n",
              "      <td>211.0</td>\n",
              "      <td>240.0</td>\n",
              "      <td>274.5</td>\n",
              "      <td>564.0</td>\n",
              "    </tr>\n",
              "    <tr>\n",
              "      <th>fbs</th>\n",
              "      <td>303.0</td>\n",
              "      <td>0.148515</td>\n",
              "      <td>0.356198</td>\n",
              "      <td>0.0</td>\n",
              "      <td>0.0</td>\n",
              "      <td>0.0</td>\n",
              "      <td>0.0</td>\n",
              "      <td>1.0</td>\n",
              "    </tr>\n",
              "    <tr>\n",
              "      <th>restecg</th>\n",
              "      <td>303.0</td>\n",
              "      <td>0.528053</td>\n",
              "      <td>0.525860</td>\n",
              "      <td>0.0</td>\n",
              "      <td>0.0</td>\n",
              "      <td>1.0</td>\n",
              "      <td>1.0</td>\n",
              "      <td>2.0</td>\n",
              "    </tr>\n",
              "    <tr>\n",
              "      <th>thalachh</th>\n",
              "      <td>303.0</td>\n",
              "      <td>149.646865</td>\n",
              "      <td>22.905161</td>\n",
              "      <td>71.0</td>\n",
              "      <td>133.5</td>\n",
              "      <td>153.0</td>\n",
              "      <td>166.0</td>\n",
              "      <td>202.0</td>\n",
              "    </tr>\n",
              "    <tr>\n",
              "      <th>exng</th>\n",
              "      <td>303.0</td>\n",
              "      <td>0.326733</td>\n",
              "      <td>0.469794</td>\n",
              "      <td>0.0</td>\n",
              "      <td>0.0</td>\n",
              "      <td>0.0</td>\n",
              "      <td>1.0</td>\n",
              "      <td>1.0</td>\n",
              "    </tr>\n",
              "    <tr>\n",
              "      <th>oldpeak</th>\n",
              "      <td>303.0</td>\n",
              "      <td>1.039604</td>\n",
              "      <td>1.161075</td>\n",
              "      <td>0.0</td>\n",
              "      <td>0.0</td>\n",
              "      <td>0.8</td>\n",
              "      <td>1.6</td>\n",
              "      <td>6.2</td>\n",
              "    </tr>\n",
              "    <tr>\n",
              "      <th>slp</th>\n",
              "      <td>303.0</td>\n",
              "      <td>1.399340</td>\n",
              "      <td>0.616226</td>\n",
              "      <td>0.0</td>\n",
              "      <td>1.0</td>\n",
              "      <td>1.0</td>\n",
              "      <td>2.0</td>\n",
              "      <td>2.0</td>\n",
              "    </tr>\n",
              "    <tr>\n",
              "      <th>caa</th>\n",
              "      <td>303.0</td>\n",
              "      <td>0.729373</td>\n",
              "      <td>1.022606</td>\n",
              "      <td>0.0</td>\n",
              "      <td>0.0</td>\n",
              "      <td>0.0</td>\n",
              "      <td>1.0</td>\n",
              "      <td>4.0</td>\n",
              "    </tr>\n",
              "    <tr>\n",
              "      <th>thall</th>\n",
              "      <td>303.0</td>\n",
              "      <td>2.313531</td>\n",
              "      <td>0.612277</td>\n",
              "      <td>0.0</td>\n",
              "      <td>2.0</td>\n",
              "      <td>2.0</td>\n",
              "      <td>3.0</td>\n",
              "      <td>3.0</td>\n",
              "    </tr>\n",
              "    <tr>\n",
              "      <th>output</th>\n",
              "      <td>303.0</td>\n",
              "      <td>0.544554</td>\n",
              "      <td>0.498835</td>\n",
              "      <td>0.0</td>\n",
              "      <td>0.0</td>\n",
              "      <td>1.0</td>\n",
              "      <td>1.0</td>\n",
              "      <td>1.0</td>\n",
              "    </tr>\n",
              "  </tbody>\n",
              "</table>\n",
              "</div>\n",
              "      <button class=\"colab-df-convert\" onclick=\"convertToInteractive('df-d01a6df3-5baa-4e5a-a2a4-f6f5aac43b64')\"\n",
              "              title=\"Convert this dataframe to an interactive table.\"\n",
              "              style=\"display:none;\">\n",
              "        \n",
              "  <svg xmlns=\"http://www.w3.org/2000/svg\" height=\"24px\"viewBox=\"0 0 24 24\"\n",
              "       width=\"24px\">\n",
              "    <path d=\"M0 0h24v24H0V0z\" fill=\"none\"/>\n",
              "    <path d=\"M18.56 5.44l.94 2.06.94-2.06 2.06-.94-2.06-.94-.94-2.06-.94 2.06-2.06.94zm-11 1L8.5 8.5l.94-2.06 2.06-.94-2.06-.94L8.5 2.5l-.94 2.06-2.06.94zm10 10l.94 2.06.94-2.06 2.06-.94-2.06-.94-.94-2.06-.94 2.06-2.06.94z\"/><path d=\"M17.41 7.96l-1.37-1.37c-.4-.4-.92-.59-1.43-.59-.52 0-1.04.2-1.43.59L10.3 9.45l-7.72 7.72c-.78.78-.78 2.05 0 2.83L4 21.41c.39.39.9.59 1.41.59.51 0 1.02-.2 1.41-.59l7.78-7.78 2.81-2.81c.8-.78.8-2.07 0-2.86zM5.41 20L4 18.59l7.72-7.72 1.47 1.35L5.41 20z\"/>\n",
              "  </svg>\n",
              "      </button>\n",
              "      \n",
              "  <style>\n",
              "    .colab-df-container {\n",
              "      display:flex;\n",
              "      flex-wrap:wrap;\n",
              "      gap: 12px;\n",
              "    }\n",
              "\n",
              "    .colab-df-convert {\n",
              "      background-color: #E8F0FE;\n",
              "      border: none;\n",
              "      border-radius: 50%;\n",
              "      cursor: pointer;\n",
              "      display: none;\n",
              "      fill: #1967D2;\n",
              "      height: 32px;\n",
              "      padding: 0 0 0 0;\n",
              "      width: 32px;\n",
              "    }\n",
              "\n",
              "    .colab-df-convert:hover {\n",
              "      background-color: #E2EBFA;\n",
              "      box-shadow: 0px 1px 2px rgba(60, 64, 67, 0.3), 0px 1px 3px 1px rgba(60, 64, 67, 0.15);\n",
              "      fill: #174EA6;\n",
              "    }\n",
              "\n",
              "    [theme=dark] .colab-df-convert {\n",
              "      background-color: #3B4455;\n",
              "      fill: #D2E3FC;\n",
              "    }\n",
              "\n",
              "    [theme=dark] .colab-df-convert:hover {\n",
              "      background-color: #434B5C;\n",
              "      box-shadow: 0px 1px 3px 1px rgba(0, 0, 0, 0.15);\n",
              "      filter: drop-shadow(0px 1px 2px rgba(0, 0, 0, 0.3));\n",
              "      fill: #FFFFFF;\n",
              "    }\n",
              "  </style>\n",
              "\n",
              "      <script>\n",
              "        const buttonEl =\n",
              "          document.querySelector('#df-d01a6df3-5baa-4e5a-a2a4-f6f5aac43b64 button.colab-df-convert');\n",
              "        buttonEl.style.display =\n",
              "          google.colab.kernel.accessAllowed ? 'block' : 'none';\n",
              "\n",
              "        async function convertToInteractive(key) {\n",
              "          const element = document.querySelector('#df-d01a6df3-5baa-4e5a-a2a4-f6f5aac43b64');\n",
              "          const dataTable =\n",
              "            await google.colab.kernel.invokeFunction('convertToInteractive',\n",
              "                                                     [key], {});\n",
              "          if (!dataTable) return;\n",
              "\n",
              "          const docLinkHtml = 'Like what you see? Visit the ' +\n",
              "            '<a target=\"_blank\" href=https://colab.research.google.com/notebooks/data_table.ipynb>data table notebook</a>'\n",
              "            + ' to learn more about interactive tables.';\n",
              "          element.innerHTML = '';\n",
              "          dataTable['output_type'] = 'display_data';\n",
              "          await google.colab.output.renderOutput(dataTable, element);\n",
              "          const docLink = document.createElement('div');\n",
              "          docLink.innerHTML = docLinkHtml;\n",
              "          element.appendChild(docLink);\n",
              "        }\n",
              "      </script>\n",
              "    </div>\n",
              "  </div>\n",
              "  "
            ]
          },
          "metadata": {},
          "execution_count": 94
        }
      ]
    },
    {
      "cell_type": "markdown",
      "source": [
        "Notes:\n",
        "set:\n",
        "caa : 4 = null\n",
        "thal : 0 = null"
      ],
      "metadata": {
        "id": "iNY-RmkNGPnd"
      }
    },
    {
      "cell_type": "code",
      "source": [
        "df.nunique()"
      ],
      "metadata": {
        "colab": {
          "base_uri": "https://localhost:8080/"
        },
        "id": "8A-mUnDGKvSE",
        "outputId": "6044ef86-4298-4e25-fd68-851067e7f1dc"
      },
      "execution_count": null,
      "outputs": [
        {
          "output_type": "execute_result",
          "data": {
            "text/plain": [
              "age          41\n",
              "sex           2\n",
              "cp            4\n",
              "trtbps       49\n",
              "chol        152\n",
              "fbs           2\n",
              "restecg       3\n",
              "thalachh     91\n",
              "exng          2\n",
              "oldpeak      40\n",
              "slp           3\n",
              "caa           5\n",
              "thall         4\n",
              "output        2\n",
              "dtype: int64"
            ]
          },
          "metadata": {},
          "execution_count": 95
        }
      ]
    },
    {
      "cell_type": "code",
      "source": [
        "#checking for missing values\n",
        "df.isna().sum()"
      ],
      "metadata": {
        "id": "jR0LwoSI8Zqo",
        "colab": {
          "base_uri": "https://localhost:8080/"
        },
        "outputId": "03586597-f487-4a5e-d1e4-77f9b2afe753"
      },
      "execution_count": null,
      "outputs": [
        {
          "output_type": "execute_result",
          "data": {
            "text/plain": [
              "age         0\n",
              "sex         0\n",
              "cp          0\n",
              "trtbps      0\n",
              "chol        0\n",
              "fbs         0\n",
              "restecg     0\n",
              "thalachh    0\n",
              "exng        0\n",
              "oldpeak     0\n",
              "slp         0\n",
              "caa         0\n",
              "thall       0\n",
              "output      0\n",
              "dtype: int64"
            ]
          },
          "metadata": {},
          "execution_count": 96
        }
      ]
    },
    {
      "cell_type": "markdown",
      "source": [
        "Obervation:\n",
        "\n",
        "1. Age is measured in days, we might wanna convert that to year for eda, and check/drop cvd babies?\n",
        "2. bmi can be added since obesity is (highly) corelated to CVD"
      ],
      "metadata": {
        "id": "_nOz399PBucJ"
      }
    },
    {
      "cell_type": "markdown",
      "source": [
        "# 2) Data Vizualization"
      ],
      "metadata": {
        "id": "EN6y0uQMqDNh"
      }
    },
    {
      "cell_type": "code",
      "source": [
        "con = ['age','trtbps','chol','thalachh','oldpeak']\n",
        "cat = df.drop(labels=con, axis=1).columns"
      ],
      "metadata": {
        "id": "oDlIJoa08a9D"
      },
      "execution_count": null,
      "outputs": []
    },
    {
      "cell_type": "code",
      "source": [
        "custom = ['#FEBB9A','#B3D9FF', '#E3F8B9','#FFC0E7','#A9F3FF','#DFD8D1']\n",
        "\n",
        "for i in cat:\n",
        "  plt.figure()\n",
        "  sns.countplot(df[i], palette= custom) \n",
        "  plt.show()\n"
      ],
      "metadata": {
        "id": "jDm3y6RVqbMp",
        "colab": {
          "base_uri": "https://localhost:8080/",
          "height": 1000
        },
        "outputId": "39b34079-f827-452f-bc3f-79fccab70dd5"
      },
      "execution_count": null,
      "outputs": [
        {
          "output_type": "stream",
          "name": "stderr",
          "text": [
            "/usr/local/lib/python3.7/dist-packages/seaborn/_decorators.py:43: FutureWarning: Pass the following variable as a keyword arg: x. From version 0.12, the only valid positional argument will be `data`, and passing other arguments without an explicit keyword will result in an error or misinterpretation.\n",
            "  FutureWarning\n"
          ]
        },
        {
          "output_type": "display_data",
          "data": {
            "text/plain": [
              "<Figure size 432x288 with 1 Axes>"
            ],
            "image/png": "[encoded data removed]"
          },
          "metadata": {
            "needs_background": "light"
          }
        },
        {
          "output_type": "stream",
          "name": "stderr",
          "text": [
            "/usr/local/lib/python3.7/dist-packages/seaborn/_decorators.py:43: FutureWarning: Pass the following variable as a keyword arg: x. From version 0.12, the only valid positional argument will be `data`, and passing other arguments without an explicit keyword will result in an error or misinterpretation.\n",
            "  FutureWarning\n"
          ]
        },
        {
          "output_type": "display_data",
          "data": {
            "text/plain": [
              "<Figure size 432x288 with 1 Axes>"
            ],
            "image/png": "[encoded data removed]"
          },
          "metadata": {
            "needs_background": "light"
          }
        },
        {
          "output_type": "stream",
          "name": "stderr",
          "text": [
            "/usr/local/lib/python3.7/dist-packages/seaborn/_decorators.py:43: FutureWarning: Pass the following variable as a keyword arg: x. From version 0.12, the only valid positional argument will be `data`, and passing other arguments without an explicit keyword will result in an error or misinterpretation.\n",
            "  FutureWarning\n"
          ]
        },
        {
          "output_type": "display_data",
          "data": {
            "text/plain": [
              "<Figure size 432x288 with 1 Axes>"
            ],
            "image/png": "[encoded data removed]"
          },
          "metadata": {
            "needs_background": "light"
          }
        },
        {
          "output_type": "stream",
          "name": "stderr",
          "text": [
            "/usr/local/lib/python3.7/dist-packages/seaborn/_decorators.py:43: FutureWarning: Pass the following variable as a keyword arg: x. From version 0.12, the only valid positional argument will be `data`, and passing other arguments without an explicit keyword will result in an error or misinterpretation.\n",
            "  FutureWarning\n"
          ]
        },
        {
          "output_type": "display_data",
          "data": {
            "text/plain": [
              "<Figure size 432x288 with 1 Axes>"
            ],
            "image/png": "[encoded data removed]"
          },
          "metadata": {
            "needs_background": "light"
          }
        },
        {
          "output_type": "stream",
          "name": "stderr",
          "text": [
            "/usr/local/lib/python3.7/dist-packages/seaborn/_decorators.py:43: FutureWarning: Pass the following variable as a keyword arg: x. From version 0.12, the only valid positional argument will be `data`, and passing other arguments without an explicit keyword will result in an error or misinterpretation.\n",
            "  FutureWarning\n"
          ]
        },
        {
          "output_type": "display_data",
          "data": {
            "text/plain": [
              "<Figure size 432x288 with 1 Axes>"
            ],
            "image/png": "[encoded data removed]"
          },
          "metadata": {
            "needs_background": "light"
          }
        },
        {
          "output_type": "stream",
          "name": "stderr",
          "text": [
            "/usr/local/lib/python3.7/dist-packages/seaborn/_decorators.py:43: FutureWarning: Pass the following variable as a keyword arg: x. From version 0.12, the only valid positional argument will be `data`, and passing other arguments without an explicit keyword will result in an error or misinterpretation.\n",
            "  FutureWarning\n"
          ]
        },
        {
          "output_type": "display_data",
          "data": {
            "text/plain": [
              "<Figure size 432x288 with 1 Axes>"
            ],
            "image/png": "[encoded data removed]"
          },
          "metadata": {
            "needs_background": "light"
          }
        },
        {
          "output_type": "stream",
          "name": "stderr",
          "text": [
            "/usr/local/lib/python3.7/dist-packages/seaborn/_decorators.py:43: FutureWarning: Pass the following variable as a keyword arg: x. From version 0.12, the only valid positional argument will be `data`, and passing other arguments without an explicit keyword will result in an error or misinterpretation.\n",
            "  FutureWarning\n"
          ]
        },
        {
          "output_type": "display_data",
          "data": {
            "text/plain": [
              "<Figure size 432x288 with 1 Axes>"
            ],
            "image/png": "[encoded data removed]"
          },
          "metadata": {
            "needs_background": "light"
          }
        },
        {
          "output_type": "stream",
          "name": "stderr",
          "text": [
            "/usr/local/lib/python3.7/dist-packages/seaborn/_decorators.py:43: FutureWarning: Pass the following variable as a keyword arg: x. From version 0.12, the only valid positional argument will be `data`, and passing other arguments without an explicit keyword will result in an error or misinterpretation.\n",
            "  FutureWarning\n"
          ]
        },
        {
          "output_type": "display_data",
          "data": {
            "text/plain": [
              "<Figure size 432x288 with 1 Axes>"
            ],
            "image/png": "[encoded data removed]"
          },
          "metadata": {
            "needs_background": "light"
          }
        },
        {
          "output_type": "stream",
          "name": "stderr",
          "text": [
            "/usr/local/lib/python3.7/dist-packages/seaborn/_decorators.py:43: FutureWarning: Pass the following variable as a keyword arg: x. From version 0.12, the only valid positional argument will be `data`, and passing other arguments without an explicit keyword will result in an error or misinterpretation.\n",
            "  FutureWarning\n"
          ]
        },
        {
          "output_type": "display_data",
          "data": {
            "text/plain": [
              "<Figure size 432x288 with 1 Axes>"
            ],
            "image/png": "[encoded data removed]"
          },
          "metadata": {
            "needs_background": "light"
          }
        }
      ]
    },
    {
      "cell_type": "markdown",
      "source": [
        "Notes:\n",
        "slightly imbalance dataset, but acceptable"
      ],
      "metadata": {
        "id": "Ut-WI0MELdPb"
      }
    },
    {
      "cell_type": "code",
      "source": [
        "df.groupby(['sex','output']).agg({'output':'count'}).plot(kind='bar',color= '#FEBB9A')\n",
        "# df.groupby(['sex','alco']).agg({'alco':'count'}).plot(kind='bar',color= '#E3F8B9')\n",
        "# df.groupby(['sex','smoke']).agg({'smoke':'count'}).plot(kind='bar',color= '#FFC0E7')\n",
        "# df.groupby(['sex','active']).agg({'active':'count'}).plot(kind='bar',color= '#A9F3FF')\n",
        "\n"
      ],
      "metadata": {
        "colab": {
          "base_uri": "https://localhost:8080/",
          "height": 313
        },
        "id": "srMuitV32XIz",
        "outputId": "8321bd6f-0d7d-4f5a-f7a4-71c916ea63d9"
      },
      "execution_count": null,
      "outputs": [
        {
          "output_type": "execute_result",
          "data": {
            "text/plain": [
              "<matplotlib.axes._subplots.AxesSubplot at 0x7f80c60f2750>"
            ]
          },
          "metadata": {},
          "execution_count": 25
        },
        {
          "output_type": "display_data",
          "data": {
            "text/plain": [
              "<Figure size 432x288 with 1 Axes>"
            ],
            "image/png": "[encoded data removed]"
          },
          "metadata": {
            "needs_background": "light"
          }
        }
      ]
    },
    {
      "cell_type": "code",
      "source": [
        "# 1: Male 0:Female"
      ],
      "metadata": {
        "id": "ygqDyYE43eQJ"
      },
      "execution_count": null,
      "outputs": []
    },
    {
      "cell_type": "code",
      "source": [
        "plot_con_graph(con,df,'c')\n"
      ],
      "metadata": {
        "colab": {
          "base_uri": "https://localhost:8080/",
          "height": 1000
        },
        "id": "WfK8ikjS3lK0",
        "outputId": "7e230a2b-c411-41a3-8e44-e225e6f9511f"
      },
      "execution_count": null,
      "outputs": [
        {
          "output_type": "stream",
          "name": "stderr",
          "text": [
            "/usr/local/lib/python3.7/dist-packages/seaborn/distributions.py:2619: FutureWarning: `distplot` is a deprecated function and will be removed in a future version. Please adapt your code to use either `displot` (a figure-level function with similar flexibility) or `histplot` (an axes-level function for histograms).\n",
            "  warnings.warn(msg, FutureWarning)\n"
          ]
        },
        {
          "output_type": "display_data",
          "data": {
            "text/plain": [
              "<Figure size 432x288 with 1 Axes>"
            ],
            "image/png": "[encoded data removed]"
          },
          "metadata": {
            "needs_background": "light"
          }
        },
        {
          "output_type": "stream",
          "name": "stderr",
          "text": [
            "/usr/local/lib/python3.7/dist-packages/seaborn/distributions.py:2619: FutureWarning: `distplot` is a deprecated function and will be removed in a future version. Please adapt your code to use either `displot` (a figure-level function with similar flexibility) or `histplot` (an axes-level function for histograms).\n",
            "  warnings.warn(msg, FutureWarning)\n"
          ]
        },
        {
          "output_type": "display_data",
          "data": {
            "text/plain": [
              "<Figure size 432x288 with 1 Axes>"
            ],
            "image/png": "[encoded data removed]"
          },
          "metadata": {
            "needs_background": "light"
          }
        },
        {
          "output_type": "stream",
          "name": "stderr",
          "text": [
            "/usr/local/lib/python3.7/dist-packages/seaborn/distributions.py:2619: FutureWarning: `distplot` is a deprecated function and will be removed in a future version. Please adapt your code to use either `displot` (a figure-level function with similar flexibility) or `histplot` (an axes-level function for histograms).\n",
            "  warnings.warn(msg, FutureWarning)\n"
          ]
        },
        {
          "output_type": "display_data",
          "data": {
            "text/plain": [
              "<Figure size 432x288 with 1 Axes>"
            ],
            "image/png": "[encoded data removed]"
          },
          "metadata": {
            "needs_background": "light"
          }
        },
        {
          "output_type": "stream",
          "name": "stderr",
          "text": [
            "/usr/local/lib/python3.7/dist-packages/seaborn/distributions.py:2619: FutureWarning: `distplot` is a deprecated function and will be removed in a future version. Please adapt your code to use either `displot` (a figure-level function with similar flexibility) or `histplot` (an axes-level function for histograms).\n",
            "  warnings.warn(msg, FutureWarning)\n"
          ]
        },
        {
          "output_type": "display_data",
          "data": {
            "text/plain": [
              "<Figure size 432x288 with 1 Axes>"
            ],
            "image/png": "[encoded data removed]"
          },
          "metadata": {
            "needs_background": "light"
          }
        },
        {
          "output_type": "stream",
          "name": "stderr",
          "text": [
            "/usr/local/lib/python3.7/dist-packages/seaborn/distributions.py:2619: FutureWarning: `distplot` is a deprecated function and will be removed in a future version. Please adapt your code to use either `displot` (a figure-level function with similar flexibility) or `histplot` (an axes-level function for histograms).\n",
            "  warnings.warn(msg, FutureWarning)\n"
          ]
        },
        {
          "output_type": "display_data",
          "data": {
            "text/plain": [
              "<Figure size 432x288 with 1 Axes>"
            ],
            "image/png": "[encoded data removed]"
          },
          "metadata": {
            "needs_background": "light"
          }
        }
      ]
    },
    {
      "cell_type": "code",
      "source": [
        "df.boxplot(figsize=(11,7))"
      ],
      "metadata": {
        "colab": {
          "base_uri": "https://localhost:8080/",
          "height": 445
        },
        "id": "cVjHN6nTG6TO",
        "outputId": "7306a3b6-ec7c-488c-d68e-df4d7d965db9"
      },
      "execution_count": null,
      "outputs": [
        {
          "output_type": "execute_result",
          "data": {
            "text/plain": [
              "<matplotlib.axes._subplots.AxesSubplot at 0x7f80c5bad290>"
            ]
          },
          "metadata": {},
          "execution_count": 31
        },
        {
          "output_type": "display_data",
          "data": {
            "text/plain": [
              "<Figure size 792x504 with 1 Axes>"
            ],
            "image/png": "[encoded data removed]"
          },
          "metadata": {
            "needs_background": "light"
          }
        }
      ]
    },
    {
      "cell_type": "code",
      "source": [
        "df.describe().T"
      ],
      "metadata": {
        "colab": {
          "base_uri": "https://localhost:8080/",
          "height": 488
        },
        "id": "gjML9BuvAyO2",
        "outputId": "346b5795-a2ae-4b3d-e6f4-54ef4c5e1f06"
      },
      "execution_count": null,
      "outputs": [
        {
          "output_type": "execute_result",
          "data": {
            "text/plain": [
              "          count        mean        std    min    25%    50%    75%    max\n",
              "age       303.0   54.366337   9.082101   29.0   47.5   55.0   61.0   77.0\n",
              "sex       303.0    0.683168   0.466011    0.0    0.0    1.0    1.0    1.0\n",
              "cp        303.0    0.966997   1.032052    0.0    0.0    1.0    2.0    3.0\n",
              "trtbps    303.0  131.623762  17.538143   94.0  120.0  130.0  140.0  200.0\n",
              "chol      303.0  246.264026  51.830751  126.0  211.0  240.0  274.5  564.0\n",
              "fbs       303.0    0.148515   0.356198    0.0    0.0    0.0    0.0    1.0\n",
              "restecg   303.0    0.528053   0.525860    0.0    0.0    1.0    1.0    2.0\n",
              "thalachh  303.0  149.646865  22.905161   71.0  133.5  153.0  166.0  202.0\n",
              "exng      303.0    0.326733   0.469794    0.0    0.0    0.0    1.0    1.0\n",
              "oldpeak   303.0    1.039604   1.161075    0.0    0.0    0.8    1.6    6.2\n",
              "slp       303.0    1.399340   0.616226    0.0    1.0    1.0    2.0    2.0\n",
              "caa       303.0    0.729373   1.022606    0.0    0.0    0.0    1.0    4.0\n",
              "thall     303.0    2.313531   0.612277    0.0    2.0    2.0    3.0    3.0\n",
              "output    303.0    0.544554   0.498835    0.0    0.0    1.0    1.0    1.0"
            ],
            "text/html": [
              "\n",
              "  <div id=\"df-551342d4-636d-4b75-bc07-c3e5cd6fd2c7\">\n",
              "    <div class=\"colab-df-container\">\n",
              "      <div>\n",
              "<style scoped>\n",
              "    .dataframe tbody tr th:only-of-type {\n",
              "        vertical-align: middle;\n",
              "    }\n",
              "\n",
              "    .dataframe tbody tr th {\n",
              "        vertical-align: top;\n",
              "    }\n",
              "\n",
              "    .dataframe thead th {\n",
              "        text-align: right;\n",
              "    }\n",
              "</style>\n",
              "<table border=\"1\" class=\"dataframe\">\n",
              "  <thead>\n",
              "    <tr style=\"text-align: right;\">\n",
              "      <th></th>\n",
              "      <th>count</th>\n",
              "      <th>mean</th>\n",
              "      <th>std</th>\n",
              "      <th>min</th>\n",
              "      <th>25%</th>\n",
              "      <th>50%</th>\n",
              "      <th>75%</th>\n",
              "      <th>max</th>\n",
              "    </tr>\n",
              "  </thead>\n",
              "  <tbody>\n",
              "    <tr>\n",
              "      <th>age</th>\n",
              "      <td>303.0</td>\n",
              "      <td>54.366337</td>\n",
              "      <td>9.082101</td>\n",
              "      <td>29.0</td>\n",
              "      <td>47.5</td>\n",
              "      <td>55.0</td>\n",
              "      <td>61.0</td>\n",
              "      <td>77.0</td>\n",
              "    </tr>\n",
              "    <tr>\n",
              "      <th>sex</th>\n",
              "      <td>303.0</td>\n",
              "      <td>0.683168</td>\n",
              "      <td>0.466011</td>\n",
              "      <td>0.0</td>\n",
              "      <td>0.0</td>\n",
              "      <td>1.0</td>\n",
              "      <td>1.0</td>\n",
              "      <td>1.0</td>\n",
              "    </tr>\n",
              "    <tr>\n",
              "      <th>cp</th>\n",
              "      <td>303.0</td>\n",
              "      <td>0.966997</td>\n",
              "      <td>1.032052</td>\n",
              "      <td>0.0</td>\n",
              "      <td>0.0</td>\n",
              "      <td>1.0</td>\n",
              "      <td>2.0</td>\n",
              "      <td>3.0</td>\n",
              "    </tr>\n",
              "    <tr>\n",
              "      <th>trtbps</th>\n",
              "      <td>303.0</td>\n",
              "      <td>131.623762</td>\n",
              "      <td>17.538143</td>\n",
              "      <td>94.0</td>\n",
              "      <td>120.0</td>\n",
              "      <td>130.0</td>\n",
              "      <td>140.0</td>\n",
              "      <td>200.0</td>\n",
              "    </tr>\n",
              "    <tr>\n",
              "      <th>chol</th>\n",
              "      <td>303.0</td>\n",
              "      <td>246.264026</td>\n",
              "      <td>51.830751</td>\n",
              "      <td>126.0</td>\n",
              "      <td>211.0</td>\n",
              "      <td>240.0</td>\n",
              "      <td>274.5</td>\n",
              "      <td>564.0</td>\n",
              "    </tr>\n",
              "    <tr>\n",
              "      <th>fbs</th>\n",
              "      <td>303.0</td>\n",
              "      <td>0.148515</td>\n",
              "      <td>0.356198</td>\n",
              "      <td>0.0</td>\n",
              "      <td>0.0</td>\n",
              "      <td>0.0</td>\n",
              "      <td>0.0</td>\n",
              "      <td>1.0</td>\n",
              "    </tr>\n",
              "    <tr>\n",
              "      <th>restecg</th>\n",
              "      <td>303.0</td>\n",
              "      <td>0.528053</td>\n",
              "      <td>0.525860</td>\n",
              "      <td>0.0</td>\n",
              "      <td>0.0</td>\n",
              "      <td>1.0</td>\n",
              "      <td>1.0</td>\n",
              "      <td>2.0</td>\n",
              "    </tr>\n",
              "    <tr>\n",
              "      <th>thalachh</th>\n",
              "      <td>303.0</td>\n",
              "      <td>149.646865</td>\n",
              "      <td>22.905161</td>\n",
              "      <td>71.0</td>\n",
              "      <td>133.5</td>\n",
              "      <td>153.0</td>\n",
              "      <td>166.0</td>\n",
              "      <td>202.0</td>\n",
              "    </tr>\n",
              "    <tr>\n",
              "      <th>exng</th>\n",
              "      <td>303.0</td>\n",
              "      <td>0.326733</td>\n",
              "      <td>0.469794</td>\n",
              "      <td>0.0</td>\n",
              "      <td>0.0</td>\n",
              "      <td>0.0</td>\n",
              "      <td>1.0</td>\n",
              "      <td>1.0</td>\n",
              "    </tr>\n",
              "    <tr>\n",
              "      <th>oldpeak</th>\n",
              "      <td>303.0</td>\n",
              "      <td>1.039604</td>\n",
              "      <td>1.161075</td>\n",
              "      <td>0.0</td>\n",
              "      <td>0.0</td>\n",
              "      <td>0.8</td>\n",
              "      <td>1.6</td>\n",
              "      <td>6.2</td>\n",
              "    </tr>\n",
              "    <tr>\n",
              "      <th>slp</th>\n",
              "      <td>303.0</td>\n",
              "      <td>1.399340</td>\n",
              "      <td>0.616226</td>\n",
              "      <td>0.0</td>\n",
              "      <td>1.0</td>\n",
              "      <td>1.0</td>\n",
              "      <td>2.0</td>\n",
              "      <td>2.0</td>\n",
              "    </tr>\n",
              "    <tr>\n",
              "      <th>caa</th>\n",
              "      <td>303.0</td>\n",
              "      <td>0.729373</td>\n",
              "      <td>1.022606</td>\n",
              "      <td>0.0</td>\n",
              "      <td>0.0</td>\n",
              "      <td>0.0</td>\n",
              "      <td>1.0</td>\n",
              "      <td>4.0</td>\n",
              "    </tr>\n",
              "    <tr>\n",
              "      <th>thall</th>\n",
              "      <td>303.0</td>\n",
              "      <td>2.313531</td>\n",
              "      <td>0.612277</td>\n",
              "      <td>0.0</td>\n",
              "      <td>2.0</td>\n",
              "      <td>2.0</td>\n",
              "      <td>3.0</td>\n",
              "      <td>3.0</td>\n",
              "    </tr>\n",
              "    <tr>\n",
              "      <th>output</th>\n",
              "      <td>303.0</td>\n",
              "      <td>0.544554</td>\n",
              "      <td>0.498835</td>\n",
              "      <td>0.0</td>\n",
              "      <td>0.0</td>\n",
              "      <td>1.0</td>\n",
              "      <td>1.0</td>\n",
              "      <td>1.0</td>\n",
              "    </tr>\n",
              "  </tbody>\n",
              "</table>\n",
              "</div>\n",
              "      <button class=\"colab-df-convert\" onclick=\"convertToInteractive('df-551342d4-636d-4b75-bc07-c3e5cd6fd2c7')\"\n",
              "              title=\"Convert this dataframe to an interactive table.\"\n",
              "              style=\"display:none;\">\n",
              "        \n",
              "  <svg xmlns=\"http://www.w3.org/2000/svg\" height=\"24px\"viewBox=\"0 0 24 24\"\n",
              "       width=\"24px\">\n",
              "    <path d=\"M0 0h24v24H0V0z\" fill=\"none\"/>\n",
              "    <path d=\"M18.56 5.44l.94 2.06.94-2.06 2.06-.94-2.06-.94-.94-2.06-.94 2.06-2.06.94zm-11 1L8.5 8.5l.94-2.06 2.06-.94-2.06-.94L8.5 2.5l-.94 2.06-2.06.94zm10 10l.94 2.06.94-2.06 2.06-.94-2.06-.94-.94-2.06-.94 2.06-2.06.94z\"/><path d=\"M17.41 7.96l-1.37-1.37c-.4-.4-.92-.59-1.43-.59-.52 0-1.04.2-1.43.59L10.3 9.45l-7.72 7.72c-.78.78-.78 2.05 0 2.83L4 21.41c.39.39.9.59 1.41.59.51 0 1.02-.2 1.41-.59l7.78-7.78 2.81-2.81c.8-.78.8-2.07 0-2.86zM5.41 20L4 18.59l7.72-7.72 1.47 1.35L5.41 20z\"/>\n",
              "  </svg>\n",
              "      </button>\n",
              "      \n",
              "  <style>\n",
              "    .colab-df-container {\n",
              "      display:flex;\n",
              "      flex-wrap:wrap;\n",
              "      gap: 12px;\n",
              "    }\n",
              "\n",
              "    .colab-df-convert {\n",
              "      background-color: #E8F0FE;\n",
              "      border: none;\n",
              "      border-radius: 50%;\n",
              "      cursor: pointer;\n",
              "      display: none;\n",
              "      fill: #1967D2;\n",
              "      height: 32px;\n",
              "      padding: 0 0 0 0;\n",
              "      width: 32px;\n",
              "    }\n",
              "\n",
              "    .colab-df-convert:hover {\n",
              "      background-color: #E2EBFA;\n",
              "      box-shadow: 0px 1px 2px rgba(60, 64, 67, 0.3), 0px 1px 3px 1px rgba(60, 64, 67, 0.15);\n",
              "      fill: #174EA6;\n",
              "    }\n",
              "\n",
              "    [theme=dark] .colab-df-convert {\n",
              "      background-color: #3B4455;\n",
              "      fill: #D2E3FC;\n",
              "    }\n",
              "\n",
              "    [theme=dark] .colab-df-convert:hover {\n",
              "      background-color: #434B5C;\n",
              "      box-shadow: 0px 1px 3px 1px rgba(0, 0, 0, 0.15);\n",
              "      filter: drop-shadow(0px 1px 2px rgba(0, 0, 0, 0.3));\n",
              "      fill: #FFFFFF;\n",
              "    }\n",
              "  </style>\n",
              "\n",
              "      <script>\n",
              "        const buttonEl =\n",
              "          document.querySelector('#df-551342d4-636d-4b75-bc07-c3e5cd6fd2c7 button.colab-df-convert');\n",
              "        buttonEl.style.display =\n",
              "          google.colab.kernel.accessAllowed ? 'block' : 'none';\n",
              "\n",
              "        async function convertToInteractive(key) {\n",
              "          const element = document.querySelector('#df-551342d4-636d-4b75-bc07-c3e5cd6fd2c7');\n",
              "          const dataTable =\n",
              "            await google.colab.kernel.invokeFunction('convertToInteractive',\n",
              "                                                     [key], {});\n",
              "          if (!dataTable) return;\n",
              "\n",
              "          const docLinkHtml = 'Like what you see? Visit the ' +\n",
              "            '<a target=\"_blank\" href=https://colab.research.google.com/notebooks/data_table.ipynb>data table notebook</a>'\n",
              "            + ' to learn more about interactive tables.';\n",
              "          element.innerHTML = '';\n",
              "          dataTable['output_type'] = 'display_data';\n",
              "          await google.colab.output.renderOutput(dataTable, element);\n",
              "          const docLink = document.createElement('div');\n",
              "          docLink.innerHTML = docLinkHtml;\n",
              "          element.appendChild(docLink);\n",
              "        }\n",
              "      </script>\n",
              "    </div>\n",
              "  </div>\n",
              "  "
            ]
          },
          "metadata": {},
          "execution_count": 33
        }
      ]
    },
    {
      "cell_type": "markdown",
      "source": [
        "Observation:\n",
        "1. age range focuses on 29-77 \n",
        "2. thall & caa hahave some hidden null data\n",
        "3. one outlier in chol"
      ],
      "metadata": {
        "id": "L1UNjsKlFnNi"
      }
    },
    {
      "cell_type": "markdown",
      "source": [
        "# 3) Data Cleaning\n",
        "1. Outliers\n",
        "2. Missing Values\n",
        "3. Duplicated"
      ],
      "metadata": {
        "id": "_I2uuOH2m5nk"
      }
    },
    {
      "cell_type": "markdown",
      "source": [
        "## 3.1 Dealing with Outliers\n",
        "1. Clip the only outliers from chol col"
      ],
      "metadata": {
        "id": "kelEYKiK4tPh"
      }
    },
    {
      "cell_type": "code",
      "source": [
        "#METHOD 2: clipping the outliers\n",
        "#clipping data with realistic blood pressures\n",
        "df['chol'] = df['chol'].clip(126,430)"
      ],
      "metadata": {
        "id": "vr5rRNflcf97"
      },
      "execution_count": null,
      "outputs": []
    },
    {
      "cell_type": "code",
      "source": [
        "df.boxplot(figsize=(10,6))\n",
        "#outliers are now treated"
      ],
      "metadata": {
        "colab": {
          "base_uri": "https://localhost:8080/",
          "height": 391
        },
        "id": "U4lOaIXPSgbO",
        "outputId": "63cb07ad-6690-47a4-8427-190bc6ccf469"
      },
      "execution_count": null,
      "outputs": [
        {
          "output_type": "execute_result",
          "data": {
            "text/plain": [
              "<matplotlib.axes._subplots.AxesSubplot at 0x7f80c5845350>"
            ]
          },
          "metadata": {},
          "execution_count": 37
        },
        {
          "output_type": "display_data",
          "data": {
            "text/plain": [
              "<Figure size 720x432 with 1 Axes>"
            ],
            "image/png": "[encoded data removed]"
          },
          "metadata": {
            "needs_background": "light"
          }
        }
      ]
    },
    {
      "cell_type": "markdown",
      "source": [
        "## 3.2 Dealing with Missing Values\n"
      ],
      "metadata": {
        "id": "qppma6PmtMsD"
      }
    },
    {
      "cell_type": "code",
      "source": [
        "#querying the data with invalid input\n",
        "\n",
        "df.query('thall == 0 or caa == 4')"
      ],
      "metadata": {
        "colab": {
          "base_uri": "https://localhost:8080/",
          "height": 269
        },
        "id": "qfCR5e7PPJ3U",
        "outputId": "65342f8a-a716-41ea-e7b5-1b5645beb4ea"
      },
      "execution_count": null,
      "outputs": [
        {
          "output_type": "execute_result",
          "data": {
            "text/plain": [
              "     age  sex  cp  trtbps  chol  fbs  restecg  thalachh  exng  oldpeak  slp  \\\n",
              "48    53    0   2     128   216    0        0       115     0      0.0    2   \n",
              "92    52    1   2     138   223    0        1       169     0      0.0    2   \n",
              "158   58    1   1     125   220    0        1       144     0      0.4    1   \n",
              "163   38    1   2     138   175    0        1       173     0      0.0    2   \n",
              "164   38    1   2     138   175    0        1       173     0      0.0    2   \n",
              "251   43    1   0     132   247    1        0       143     1      0.1    1   \n",
              "281   52    1   0     128   204    1        1       156     1      1.0    1   \n",
              "\n",
              "     caa  thall  output  \n",
              "48     0      0       1  \n",
              "92     4      2       1  \n",
              "158    4      3       1  \n",
              "163    4      2       1  \n",
              "164    4      2       1  \n",
              "251    4      3       0  \n",
              "281    0      0       0  "
            ],
            "text/html": [
              "\n",
              "  <div id=\"df-bbbaa7ca-8281-40fc-8c0d-06a1c45cf151\">\n",
              "    <div class=\"colab-df-container\">\n",
              "      <div>\n",
              "<style scoped>\n",
              "    .dataframe tbody tr th:only-of-type {\n",
              "        vertical-align: middle;\n",
              "    }\n",
              "\n",
              "    .dataframe tbody tr th {\n",
              "        vertical-align: top;\n",
              "    }\n",
              "\n",
              "    .dataframe thead th {\n",
              "        text-align: right;\n",
              "    }\n",
              "</style>\n",
              "<table border=\"1\" class=\"dataframe\">\n",
              "  <thead>\n",
              "    <tr style=\"text-align: right;\">\n",
              "      <th></th>\n",
              "      <th>age</th>\n",
              "      <th>sex</th>\n",
              "      <th>cp</th>\n",
              "      <th>trtbps</th>\n",
              "      <th>chol</th>\n",
              "      <th>fbs</th>\n",
              "      <th>restecg</th>\n",
              "      <th>thalachh</th>\n",
              "      <th>exng</th>\n",
              "      <th>oldpeak</th>\n",
              "      <th>slp</th>\n",
              "      <th>caa</th>\n",
              "      <th>thall</th>\n",
              "      <th>output</th>\n",
              "    </tr>\n",
              "  </thead>\n",
              "  <tbody>\n",
              "    <tr>\n",
              "      <th>48</th>\n",
              "      <td>53</td>\n",
              "      <td>0</td>\n",
              "      <td>2</td>\n",
              "      <td>128</td>\n",
              "      <td>216</td>\n",
              "      <td>0</td>\n",
              "      <td>0</td>\n",
              "      <td>115</td>\n",
              "      <td>0</td>\n",
              "      <td>0.0</td>\n",
              "      <td>2</td>\n",
              "      <td>0</td>\n",
              "      <td>0</td>\n",
              "      <td>1</td>\n",
              "    </tr>\n",
              "    <tr>\n",
              "      <th>92</th>\n",
              "      <td>52</td>\n",
              "      <td>1</td>\n",
              "      <td>2</td>\n",
              "      <td>138</td>\n",
              "      <td>223</td>\n",
              "      <td>0</td>\n",
              "      <td>1</td>\n",
              "      <td>169</td>\n",
              "      <td>0</td>\n",
              "      <td>0.0</td>\n",
              "      <td>2</td>\n",
              "      <td>4</td>\n",
              "      <td>2</td>\n",
              "      <td>1</td>\n",
              "    </tr>\n",
              "    <tr>\n",
              "      <th>158</th>\n",
              "      <td>58</td>\n",
              "      <td>1</td>\n",
              "      <td>1</td>\n",
              "      <td>125</td>\n",
              "      <td>220</td>\n",
              "      <td>0</td>\n",
              "      <td>1</td>\n",
              "      <td>144</td>\n",
              "      <td>0</td>\n",
              "      <td>0.4</td>\n",
              "      <td>1</td>\n",
              "      <td>4</td>\n",
              "      <td>3</td>\n",
              "      <td>1</td>\n",
              "    </tr>\n",
              "    <tr>\n",
              "      <th>163</th>\n",
              "      <td>38</td>\n",
              "      <td>1</td>\n",
              "      <td>2</td>\n",
              "      <td>138</td>\n",
              "      <td>175</td>\n",
              "      <td>0</td>\n",
              "      <td>1</td>\n",
              "      <td>173</td>\n",
              "      <td>0</td>\n",
              "      <td>0.0</td>\n",
              "      <td>2</td>\n",
              "      <td>4</td>\n",
              "      <td>2</td>\n",
              "      <td>1</td>\n",
              "    </tr>\n",
              "    <tr>\n",
              "      <th>164</th>\n",
              "      <td>38</td>\n",
              "      <td>1</td>\n",
              "      <td>2</td>\n",
              "      <td>138</td>\n",
              "      <td>175</td>\n",
              "      <td>0</td>\n",
              "      <td>1</td>\n",
              "      <td>173</td>\n",
              "      <td>0</td>\n",
              "      <td>0.0</td>\n",
              "      <td>2</td>\n",
              "      <td>4</td>\n",
              "      <td>2</td>\n",
              "      <td>1</td>\n",
              "    </tr>\n",
              "    <tr>\n",
              "      <th>251</th>\n",
              "      <td>43</td>\n",
              "      <td>1</td>\n",
              "      <td>0</td>\n",
              "      <td>132</td>\n",
              "      <td>247</td>\n",
              "      <td>1</td>\n",
              "      <td>0</td>\n",
              "      <td>143</td>\n",
              "      <td>1</td>\n",
              "      <td>0.1</td>\n",
              "      <td>1</td>\n",
              "      <td>4</td>\n",
              "      <td>3</td>\n",
              "      <td>0</td>\n",
              "    </tr>\n",
              "    <tr>\n",
              "      <th>281</th>\n",
              "      <td>52</td>\n",
              "      <td>1</td>\n",
              "      <td>0</td>\n",
              "      <td>128</td>\n",
              "      <td>204</td>\n",
              "      <td>1</td>\n",
              "      <td>1</td>\n",
              "      <td>156</td>\n",
              "      <td>1</td>\n",
              "      <td>1.0</td>\n",
              "      <td>1</td>\n",
              "      <td>0</td>\n",
              "      <td>0</td>\n",
              "      <td>0</td>\n",
              "    </tr>\n",
              "  </tbody>\n",
              "</table>\n",
              "</div>\n",
              "      <button class=\"colab-df-convert\" onclick=\"convertToInteractive('df-bbbaa7ca-8281-40fc-8c0d-06a1c45cf151')\"\n",
              "              title=\"Convert this dataframe to an interactive table.\"\n",
              "              style=\"display:none;\">\n",
              "        \n",
              "  <svg xmlns=\"http://www.w3.org/2000/svg\" height=\"24px\"viewBox=\"0 0 24 24\"\n",
              "       width=\"24px\">\n",
              "    <path d=\"M0 0h24v24H0V0z\" fill=\"none\"/>\n",
              "    <path d=\"M18.56 5.44l.94 2.06.94-2.06 2.06-.94-2.06-.94-.94-2.06-.94 2.06-2.06.94zm-11 1L8.5 8.5l.94-2.06 2.06-.94-2.06-.94L8.5 2.5l-.94 2.06-2.06.94zm10 10l.94 2.06.94-2.06 2.06-.94-2.06-.94-.94-2.06-.94 2.06-2.06.94z\"/><path d=\"M17.41 7.96l-1.37-1.37c-.4-.4-.92-.59-1.43-.59-.52 0-1.04.2-1.43.59L10.3 9.45l-7.72 7.72c-.78.78-.78 2.05 0 2.83L4 21.41c.39.39.9.59 1.41.59.51 0 1.02-.2 1.41-.59l7.78-7.78 2.81-2.81c.8-.78.8-2.07 0-2.86zM5.41 20L4 18.59l7.72-7.72 1.47 1.35L5.41 20z\"/>\n",
              "  </svg>\n",
              "      </button>\n",
              "      \n",
              "  <style>\n",
              "    .colab-df-container {\n",
              "      display:flex;\n",
              "      flex-wrap:wrap;\n",
              "      gap: 12px;\n",
              "    }\n",
              "\n",
              "    .colab-df-convert {\n",
              "      background-color: #E8F0FE;\n",
              "      border: none;\n",
              "      border-radius: 50%;\n",
              "      cursor: pointer;\n",
              "      display: none;\n",
              "      fill: #1967D2;\n",
              "      height: 32px;\n",
              "      padding: 0 0 0 0;\n",
              "      width: 32px;\n",
              "    }\n",
              "\n",
              "    .colab-df-convert:hover {\n",
              "      background-color: #E2EBFA;\n",
              "      box-shadow: 0px 1px 2px rgba(60, 64, 67, 0.3), 0px 1px 3px 1px rgba(60, 64, 67, 0.15);\n",
              "      fill: #174EA6;\n",
              "    }\n",
              "\n",
              "    [theme=dark] .colab-df-convert {\n",
              "      background-color: #3B4455;\n",
              "      fill: #D2E3FC;\n",
              "    }\n",
              "\n",
              "    [theme=dark] .colab-df-convert:hover {\n",
              "      background-color: #434B5C;\n",
              "      box-shadow: 0px 1px 3px 1px rgba(0, 0, 0, 0.15);\n",
              "      filter: drop-shadow(0px 1px 2px rgba(0, 0, 0, 0.3));\n",
              "      fill: #FFFFFF;\n",
              "    }\n",
              "  </style>\n",
              "\n",
              "      <script>\n",
              "        const buttonEl =\n",
              "          document.querySelector('#df-bbbaa7ca-8281-40fc-8c0d-06a1c45cf151 button.colab-df-convert');\n",
              "        buttonEl.style.display =\n",
              "          google.colab.kernel.accessAllowed ? 'block' : 'none';\n",
              "\n",
              "        async function convertToInteractive(key) {\n",
              "          const element = document.querySelector('#df-bbbaa7ca-8281-40fc-8c0d-06a1c45cf151');\n",
              "          const dataTable =\n",
              "            await google.colab.kernel.invokeFunction('convertToInteractive',\n",
              "                                                     [key], {});\n",
              "          if (!dataTable) return;\n",
              "\n",
              "          const docLinkHtml = 'Like what you see? Visit the ' +\n",
              "            '<a target=\"_blank\" href=https://colab.research.google.com/notebooks/data_table.ipynb>data table notebook</a>'\n",
              "            + ' to learn more about interactive tables.';\n",
              "          element.innerHTML = '';\n",
              "          dataTable['output_type'] = 'display_data';\n",
              "          await google.colab.output.renderOutput(dataTable, element);\n",
              "          const docLink = document.createElement('div');\n",
              "          docLink.innerHTML = docLinkHtml;\n",
              "          element.appendChild(docLink);\n",
              "        }\n",
              "      </script>\n",
              "    </div>\n",
              "  </div>\n",
              "  "
            ]
          },
          "metadata": {},
          "execution_count": 38
        }
      ]
    },
    {
      "cell_type": "markdown",
      "source": [
        "We have 7 data with positive outputs.\n",
        "Since we have a really small datasets, we might want to make fill the datasets by the output. \n",
        "- to improve the performance\n",
        "- drop it for the first round"
      ],
      "metadata": {
        "id": "i2hxwXOLPXTA"
      }
    },
    {
      "cell_type": "code",
      "source": [
        "df.drop(df.query('thall == 0 or caa == 4').index,axis=0,inplace=True)"
      ],
      "metadata": {
        "id": "HWSMFY2bZaFO"
      },
      "execution_count": null,
      "outputs": []
    },
    {
      "cell_type": "code",
      "source": [
        "df.describe().T"
      ],
      "metadata": {
        "colab": {
          "base_uri": "https://localhost:8080/",
          "height": 488
        },
        "id": "Eni0RuMoRd1z",
        "outputId": "6554c305-9cfc-408b-9590-d95c0a562e01"
      },
      "execution_count": null,
      "outputs": [
        {
          "output_type": "execute_result",
          "data": {
            "text/plain": [
              "          count        mean        std    min    25%    50%     75%    max\n",
              "age       296.0   54.523649   9.059471   29.0   48.0   56.0   61.00   77.0\n",
              "sex       296.0    0.679054   0.467631    0.0    0.0    1.0    1.00    1.0\n",
              "cp        296.0    0.959459   1.034184    0.0    0.0    1.0    2.00    3.0\n",
              "trtbps    296.0  131.604730  17.726620   94.0  120.0  130.0  140.00  200.0\n",
              "chol      296.0  246.702703  49.743608  126.0  211.0  242.5  275.25  430.0\n",
              "fbs       296.0    0.145270   0.352970    0.0    0.0    0.0    0.00    1.0\n",
              "restecg   296.0    0.523649   0.526692    0.0    0.0    1.0    1.00    2.0\n",
              "thalachh  296.0  149.560811  22.970792   71.0  133.0  152.5  166.00  202.0\n",
              "exng      296.0    0.327703   0.470171    0.0    0.0    0.0    1.00    1.0\n",
              "oldpeak   296.0    1.059122   1.166474    0.0    0.0    0.8    1.65    6.2\n",
              "slp       296.0    1.395270   0.618235    0.0    1.0    1.0    2.00    2.0\n",
              "caa       296.0    0.679054   0.939726    0.0    0.0    0.0    1.00    3.0\n",
              "thall     296.0    2.327703   0.585743    1.0    2.0    2.0    3.00    3.0\n",
              "output    296.0    0.540541   0.499198    0.0    0.0    1.0    1.00    1.0"
            ],
            "text/html": [
              "\n",
              "  <div id=\"df-f5ebe11b-ac11-4409-babd-570034f8a6a7\">\n",
              "    <div class=\"colab-df-container\">\n",
              "      <div>\n",
              "<style scoped>\n",
              "    .dataframe tbody tr th:only-of-type {\n",
              "        vertical-align: middle;\n",
              "    }\n",
              "\n",
              "    .dataframe tbody tr th {\n",
              "        vertical-align: top;\n",
              "    }\n",
              "\n",
              "    .dataframe thead th {\n",
              "        text-align: right;\n",
              "    }\n",
              "</style>\n",
              "<table border=\"1\" class=\"dataframe\">\n",
              "  <thead>\n",
              "    <tr style=\"text-align: right;\">\n",
              "      <th></th>\n",
              "      <th>count</th>\n",
              "      <th>mean</th>\n",
              "      <th>std</th>\n",
              "      <th>min</th>\n",
              "      <th>25%</th>\n",
              "      <th>50%</th>\n",
              "      <th>75%</th>\n",
              "      <th>max</th>\n",
              "    </tr>\n",
              "  </thead>\n",
              "  <tbody>\n",
              "    <tr>\n",
              "      <th>age</th>\n",
              "      <td>296.0</td>\n",
              "      <td>54.523649</td>\n",
              "      <td>9.059471</td>\n",
              "      <td>29.0</td>\n",
              "      <td>48.0</td>\n",
              "      <td>56.0</td>\n",
              "      <td>61.00</td>\n",
              "      <td>77.0</td>\n",
              "    </tr>\n",
              "    <tr>\n",
              "      <th>sex</th>\n",
              "      <td>296.0</td>\n",
              "      <td>0.679054</td>\n",
              "      <td>0.467631</td>\n",
              "      <td>0.0</td>\n",
              "      <td>0.0</td>\n",
              "      <td>1.0</td>\n",
              "      <td>1.00</td>\n",
              "      <td>1.0</td>\n",
              "    </tr>\n",
              "    <tr>\n",
              "      <th>cp</th>\n",
              "      <td>296.0</td>\n",
              "      <td>0.959459</td>\n",
              "      <td>1.034184</td>\n",
              "      <td>0.0</td>\n",
              "      <td>0.0</td>\n",
              "      <td>1.0</td>\n",
              "      <td>2.00</td>\n",
              "      <td>3.0</td>\n",
              "    </tr>\n",
              "    <tr>\n",
              "      <th>trtbps</th>\n",
              "      <td>296.0</td>\n",
              "      <td>131.604730</td>\n",
              "      <td>17.726620</td>\n",
              "      <td>94.0</td>\n",
              "      <td>120.0</td>\n",
              "      <td>130.0</td>\n",
              "      <td>140.00</td>\n",
              "      <td>200.0</td>\n",
              "    </tr>\n",
              "    <tr>\n",
              "      <th>chol</th>\n",
              "      <td>296.0</td>\n",
              "      <td>246.702703</td>\n",
              "      <td>49.743608</td>\n",
              "      <td>126.0</td>\n",
              "      <td>211.0</td>\n",
              "      <td>242.5</td>\n",
              "      <td>275.25</td>\n",
              "      <td>430.0</td>\n",
              "    </tr>\n",
              "    <tr>\n",
              "      <th>fbs</th>\n",
              "      <td>296.0</td>\n",
              "      <td>0.145270</td>\n",
              "      <td>0.352970</td>\n",
              "      <td>0.0</td>\n",
              "      <td>0.0</td>\n",
              "      <td>0.0</td>\n",
              "      <td>0.00</td>\n",
              "      <td>1.0</td>\n",
              "    </tr>\n",
              "    <tr>\n",
              "      <th>restecg</th>\n",
              "      <td>296.0</td>\n",
              "      <td>0.523649</td>\n",
              "      <td>0.526692</td>\n",
              "      <td>0.0</td>\n",
              "      <td>0.0</td>\n",
              "      <td>1.0</td>\n",
              "      <td>1.00</td>\n",
              "      <td>2.0</td>\n",
              "    </tr>\n",
              "    <tr>\n",
              "      <th>thalachh</th>\n",
              "      <td>296.0</td>\n",
              "      <td>149.560811</td>\n",
              "      <td>22.970792</td>\n",
              "      <td>71.0</td>\n",
              "      <td>133.0</td>\n",
              "      <td>152.5</td>\n",
              "      <td>166.00</td>\n",
              "      <td>202.0</td>\n",
              "    </tr>\n",
              "    <tr>\n",
              "      <th>exng</th>\n",
              "      <td>296.0</td>\n",
              "      <td>0.327703</td>\n",
              "      <td>0.470171</td>\n",
              "      <td>0.0</td>\n",
              "      <td>0.0</td>\n",
              "      <td>0.0</td>\n",
              "      <td>1.00</td>\n",
              "      <td>1.0</td>\n",
              "    </tr>\n",
              "    <tr>\n",
              "      <th>oldpeak</th>\n",
              "      <td>296.0</td>\n",
              "      <td>1.059122</td>\n",
              "      <td>1.166474</td>\n",
              "      <td>0.0</td>\n",
              "      <td>0.0</td>\n",
              "      <td>0.8</td>\n",
              "      <td>1.65</td>\n",
              "      <td>6.2</td>\n",
              "    </tr>\n",
              "    <tr>\n",
              "      <th>slp</th>\n",
              "      <td>296.0</td>\n",
              "      <td>1.395270</td>\n",
              "      <td>0.618235</td>\n",
              "      <td>0.0</td>\n",
              "      <td>1.0</td>\n",
              "      <td>1.0</td>\n",
              "      <td>2.00</td>\n",
              "      <td>2.0</td>\n",
              "    </tr>\n",
              "    <tr>\n",
              "      <th>caa</th>\n",
              "      <td>296.0</td>\n",
              "      <td>0.679054</td>\n",
              "      <td>0.939726</td>\n",
              "      <td>0.0</td>\n",
              "      <td>0.0</td>\n",
              "      <td>0.0</td>\n",
              "      <td>1.00</td>\n",
              "      <td>3.0</td>\n",
              "    </tr>\n",
              "    <tr>\n",
              "      <th>thall</th>\n",
              "      <td>296.0</td>\n",
              "      <td>2.327703</td>\n",
              "      <td>0.585743</td>\n",
              "      <td>1.0</td>\n",
              "      <td>2.0</td>\n",
              "      <td>2.0</td>\n",
              "      <td>3.00</td>\n",
              "      <td>3.0</td>\n",
              "    </tr>\n",
              "    <tr>\n",
              "      <th>output</th>\n",
              "      <td>296.0</td>\n",
              "      <td>0.540541</td>\n",
              "      <td>0.499198</td>\n",
              "      <td>0.0</td>\n",
              "      <td>0.0</td>\n",
              "      <td>1.0</td>\n",
              "      <td>1.00</td>\n",
              "      <td>1.0</td>\n",
              "    </tr>\n",
              "  </tbody>\n",
              "</table>\n",
              "</div>\n",
              "      <button class=\"colab-df-convert\" onclick=\"convertToInteractive('df-f5ebe11b-ac11-4409-babd-570034f8a6a7')\"\n",
              "              title=\"Convert this dataframe to an interactive table.\"\n",
              "              style=\"display:none;\">\n",
              "        \n",
              "  <svg xmlns=\"http://www.w3.org/2000/svg\" height=\"24px\"viewBox=\"0 0 24 24\"\n",
              "       width=\"24px\">\n",
              "    <path d=\"M0 0h24v24H0V0z\" fill=\"none\"/>\n",
              "    <path d=\"M18.56 5.44l.94 2.06.94-2.06 2.06-.94-2.06-.94-.94-2.06-.94 2.06-2.06.94zm-11 1L8.5 8.5l.94-2.06 2.06-.94-2.06-.94L8.5 2.5l-.94 2.06-2.06.94zm10 10l.94 2.06.94-2.06 2.06-.94-2.06-.94-.94-2.06-.94 2.06-2.06.94z\"/><path d=\"M17.41 7.96l-1.37-1.37c-.4-.4-.92-.59-1.43-.59-.52 0-1.04.2-1.43.59L10.3 9.45l-7.72 7.72c-.78.78-.78 2.05 0 2.83L4 21.41c.39.39.9.59 1.41.59.51 0 1.02-.2 1.41-.59l7.78-7.78 2.81-2.81c.8-.78.8-2.07 0-2.86zM5.41 20L4 18.59l7.72-7.72 1.47 1.35L5.41 20z\"/>\n",
              "  </svg>\n",
              "      </button>\n",
              "      \n",
              "  <style>\n",
              "    .colab-df-container {\n",
              "      display:flex;\n",
              "      flex-wrap:wrap;\n",
              "      gap: 12px;\n",
              "    }\n",
              "\n",
              "    .colab-df-convert {\n",
              "      background-color: #E8F0FE;\n",
              "      border: none;\n",
              "      border-radius: 50%;\n",
              "      cursor: pointer;\n",
              "      display: none;\n",
              "      fill: #1967D2;\n",
              "      height: 32px;\n",
              "      padding: 0 0 0 0;\n",
              "      width: 32px;\n",
              "    }\n",
              "\n",
              "    .colab-df-convert:hover {\n",
              "      background-color: #E2EBFA;\n",
              "      box-shadow: 0px 1px 2px rgba(60, 64, 67, 0.3), 0px 1px 3px 1px rgba(60, 64, 67, 0.15);\n",
              "      fill: #174EA6;\n",
              "    }\n",
              "\n",
              "    [theme=dark] .colab-df-convert {\n",
              "      background-color: #3B4455;\n",
              "      fill: #D2E3FC;\n",
              "    }\n",
              "\n",
              "    [theme=dark] .colab-df-convert:hover {\n",
              "      background-color: #434B5C;\n",
              "      box-shadow: 0px 1px 3px 1px rgba(0, 0, 0, 0.15);\n",
              "      filter: drop-shadow(0px 1px 2px rgba(0, 0, 0, 0.3));\n",
              "      fill: #FFFFFF;\n",
              "    }\n",
              "  </style>\n",
              "\n",
              "      <script>\n",
              "        const buttonEl =\n",
              "          document.querySelector('#df-f5ebe11b-ac11-4409-babd-570034f8a6a7 button.colab-df-convert');\n",
              "        buttonEl.style.display =\n",
              "          google.colab.kernel.accessAllowed ? 'block' : 'none';\n",
              "\n",
              "        async function convertToInteractive(key) {\n",
              "          const element = document.querySelector('#df-f5ebe11b-ac11-4409-babd-570034f8a6a7');\n",
              "          const dataTable =\n",
              "            await google.colab.kernel.invokeFunction('convertToInteractive',\n",
              "                                                     [key], {});\n",
              "          if (!dataTable) return;\n",
              "\n",
              "          const docLinkHtml = 'Like what you see? Visit the ' +\n",
              "            '<a target=\"_blank\" href=https://colab.research.google.com/notebooks/data_table.ipynb>data table notebook</a>'\n",
              "            + ' to learn more about interactive tables.';\n",
              "          element.innerHTML = '';\n",
              "          dataTable['output_type'] = 'display_data';\n",
              "          await google.colab.output.renderOutput(dataTable, element);\n",
              "          const docLink = document.createElement('div');\n",
              "          docLink.innerHTML = docLinkHtml;\n",
              "          element.appendChild(docLink);\n",
              "        }\n",
              "      </script>\n",
              "    </div>\n",
              "  </div>\n",
              "  "
            ]
          },
          "metadata": {},
          "execution_count": 41
        }
      ]
    },
    {
      "cell_type": "code",
      "source": [
        "\n",
        "\n",
        "# df.boxplot()\n",
        "\n",
        "# for i in con:\n",
        "#   df[i] = df[i].fillna(df[i].median())\n",
        "\n",
        "# for i in cat:\n",
        "#   df[i] = df[i].fillna(df[i].mode()[0])\n",
        "\n",
        "# df.isna().sum()\n"
      ],
      "metadata": {
        "id": "MVsu5PQDCwwL"
      },
      "execution_count": null,
      "outputs": []
    },
    {
      "cell_type": "markdown",
      "source": [
        "##3.3 Droping Duplicates"
      ],
      "metadata": {
        "id": "pQp7ckdP2cb_"
      }
    },
    {
      "cell_type": "code",
      "source": [
        "df.duplicated().sum()"
      ],
      "metadata": {
        "colab": {
          "base_uri": "https://localhost:8080/"
        },
        "id": "mgukU4wm4XJz",
        "outputId": "ba32b0a8-6536-48b5-ffc1-b2351d7e244f"
      },
      "execution_count": null,
      "outputs": [
        {
          "output_type": "execute_result",
          "data": {
            "text/plain": [
              "0"
            ]
          },
          "metadata": {},
          "execution_count": 110
        }
      ]
    },
    {
      "cell_type": "code",
      "source": [
        "df.describe().T\n",
        "#clean datasets of 296 entries"
      ],
      "metadata": {
        "colab": {
          "base_uri": "https://localhost:8080/",
          "height": 488
        },
        "id": "J7YLUHpwIBP2",
        "outputId": "f3a8282e-4446-4e6a-ce30-55fc358146c2"
      },
      "execution_count": null,
      "outputs": [
        {
          "output_type": "execute_result",
          "data": {
            "text/plain": [
              "          count        mean        std    min    25%    50%     75%    max\n",
              "age       296.0   54.523649   9.059471   29.0   48.0   56.0   61.00   77.0\n",
              "sex       296.0    0.679054   0.467631    0.0    0.0    1.0    1.00    1.0\n",
              "cp        296.0    0.959459   1.034184    0.0    0.0    1.0    2.00    3.0\n",
              "trtbps    296.0  131.604730  17.726620   94.0  120.0  130.0  140.00  200.0\n",
              "chol      296.0  246.702703  49.743608  126.0  211.0  242.5  275.25  430.0\n",
              "fbs       296.0    0.145270   0.352970    0.0    0.0    0.0    0.00    1.0\n",
              "restecg   296.0    0.523649   0.526692    0.0    0.0    1.0    1.00    2.0\n",
              "thalachh  296.0  149.560811  22.970792   71.0  133.0  152.5  166.00  202.0\n",
              "exng      296.0    0.327703   0.470171    0.0    0.0    0.0    1.00    1.0\n",
              "oldpeak   296.0    1.059122   1.166474    0.0    0.0    0.8    1.65    6.2\n",
              "slp       296.0    1.395270   0.618235    0.0    1.0    1.0    2.00    2.0\n",
              "caa       296.0    0.679054   0.939726    0.0    0.0    0.0    1.00    3.0\n",
              "thall     296.0    2.327703   0.585743    1.0    2.0    2.0    3.00    3.0\n",
              "output    296.0    0.540541   0.499198    0.0    0.0    1.0    1.00    1.0"
            ],
            "text/html": [
              "\n",
              "  <div id=\"df-beeb88b3-b699-4082-b7a8-ecc48620e46f\">\n",
              "    <div class=\"colab-df-container\">\n",
              "      <div>\n",
              "<style scoped>\n",
              "    .dataframe tbody tr th:only-of-type {\n",
              "        vertical-align: middle;\n",
              "    }\n",
              "\n",
              "    .dataframe tbody tr th {\n",
              "        vertical-align: top;\n",
              "    }\n",
              "\n",
              "    .dataframe thead th {\n",
              "        text-align: right;\n",
              "    }\n",
              "</style>\n",
              "<table border=\"1\" class=\"dataframe\">\n",
              "  <thead>\n",
              "    <tr style=\"text-align: right;\">\n",
              "      <th></th>\n",
              "      <th>count</th>\n",
              "      <th>mean</th>\n",
              "      <th>std</th>\n",
              "      <th>min</th>\n",
              "      <th>25%</th>\n",
              "      <th>50%</th>\n",
              "      <th>75%</th>\n",
              "      <th>max</th>\n",
              "    </tr>\n",
              "  </thead>\n",
              "  <tbody>\n",
              "    <tr>\n",
              "      <th>age</th>\n",
              "      <td>296.0</td>\n",
              "      <td>54.523649</td>\n",
              "      <td>9.059471</td>\n",
              "      <td>29.0</td>\n",
              "      <td>48.0</td>\n",
              "      <td>56.0</td>\n",
              "      <td>61.00</td>\n",
              "      <td>77.0</td>\n",
              "    </tr>\n",
              "    <tr>\n",
              "      <th>sex</th>\n",
              "      <td>296.0</td>\n",
              "      <td>0.679054</td>\n",
              "      <td>0.467631</td>\n",
              "      <td>0.0</td>\n",
              "      <td>0.0</td>\n",
              "      <td>1.0</td>\n",
              "      <td>1.00</td>\n",
              "      <td>1.0</td>\n",
              "    </tr>\n",
              "    <tr>\n",
              "      <th>cp</th>\n",
              "      <td>296.0</td>\n",
              "      <td>0.959459</td>\n",
              "      <td>1.034184</td>\n",
              "      <td>0.0</td>\n",
              "      <td>0.0</td>\n",
              "      <td>1.0</td>\n",
              "      <td>2.00</td>\n",
              "      <td>3.0</td>\n",
              "    </tr>\n",
              "    <tr>\n",
              "      <th>trtbps</th>\n",
              "      <td>296.0</td>\n",
              "      <td>131.604730</td>\n",
              "      <td>17.726620</td>\n",
              "      <td>94.0</td>\n",
              "      <td>120.0</td>\n",
              "      <td>130.0</td>\n",
              "      <td>140.00</td>\n",
              "      <td>200.0</td>\n",
              "    </tr>\n",
              "    <tr>\n",
              "      <th>chol</th>\n",
              "      <td>296.0</td>\n",
              "      <td>246.702703</td>\n",
              "      <td>49.743608</td>\n",
              "      <td>126.0</td>\n",
              "      <td>211.0</td>\n",
              "      <td>242.5</td>\n",
              "      <td>275.25</td>\n",
              "      <td>430.0</td>\n",
              "    </tr>\n",
              "    <tr>\n",
              "      <th>fbs</th>\n",
              "      <td>296.0</td>\n",
              "      <td>0.145270</td>\n",
              "      <td>0.352970</td>\n",
              "      <td>0.0</td>\n",
              "      <td>0.0</td>\n",
              "      <td>0.0</td>\n",
              "      <td>0.00</td>\n",
              "      <td>1.0</td>\n",
              "    </tr>\n",
              "    <tr>\n",
              "      <th>restecg</th>\n",
              "      <td>296.0</td>\n",
              "      <td>0.523649</td>\n",
              "      <td>0.526692</td>\n",
              "      <td>0.0</td>\n",
              "      <td>0.0</td>\n",
              "      <td>1.0</td>\n",
              "      <td>1.00</td>\n",
              "      <td>2.0</td>\n",
              "    </tr>\n",
              "    <tr>\n",
              "      <th>thalachh</th>\n",
              "      <td>296.0</td>\n",
              "      <td>149.560811</td>\n",
              "      <td>22.970792</td>\n",
              "      <td>71.0</td>\n",
              "      <td>133.0</td>\n",
              "      <td>152.5</td>\n",
              "      <td>166.00</td>\n",
              "      <td>202.0</td>\n",
              "    </tr>\n",
              "    <tr>\n",
              "      <th>exng</th>\n",
              "      <td>296.0</td>\n",
              "      <td>0.327703</td>\n",
              "      <td>0.470171</td>\n",
              "      <td>0.0</td>\n",
              "      <td>0.0</td>\n",
              "      <td>0.0</td>\n",
              "      <td>1.00</td>\n",
              "      <td>1.0</td>\n",
              "    </tr>\n",
              "    <tr>\n",
              "      <th>oldpeak</th>\n",
              "      <td>296.0</td>\n",
              "      <td>1.059122</td>\n",
              "      <td>1.166474</td>\n",
              "      <td>0.0</td>\n",
              "      <td>0.0</td>\n",
              "      <td>0.8</td>\n",
              "      <td>1.65</td>\n",
              "      <td>6.2</td>\n",
              "    </tr>\n",
              "    <tr>\n",
              "      <th>slp</th>\n",
              "      <td>296.0</td>\n",
              "      <td>1.395270</td>\n",
              "      <td>0.618235</td>\n",
              "      <td>0.0</td>\n",
              "      <td>1.0</td>\n",
              "      <td>1.0</td>\n",
              "      <td>2.00</td>\n",
              "      <td>2.0</td>\n",
              "    </tr>\n",
              "    <tr>\n",
              "      <th>caa</th>\n",
              "      <td>296.0</td>\n",
              "      <td>0.679054</td>\n",
              "      <td>0.939726</td>\n",
              "      <td>0.0</td>\n",
              "      <td>0.0</td>\n",
              "      <td>0.0</td>\n",
              "      <td>1.00</td>\n",
              "      <td>3.0</td>\n",
              "    </tr>\n",
              "    <tr>\n",
              "      <th>thall</th>\n",
              "      <td>296.0</td>\n",
              "      <td>2.327703</td>\n",
              "      <td>0.585743</td>\n",
              "      <td>1.0</td>\n",
              "      <td>2.0</td>\n",
              "      <td>2.0</td>\n",
              "      <td>3.00</td>\n",
              "      <td>3.0</td>\n",
              "    </tr>\n",
              "    <tr>\n",
              "      <th>output</th>\n",
              "      <td>296.0</td>\n",
              "      <td>0.540541</td>\n",
              "      <td>0.499198</td>\n",
              "      <td>0.0</td>\n",
              "      <td>0.0</td>\n",
              "      <td>1.0</td>\n",
              "      <td>1.00</td>\n",
              "      <td>1.0</td>\n",
              "    </tr>\n",
              "  </tbody>\n",
              "</table>\n",
              "</div>\n",
              "      <button class=\"colab-df-convert\" onclick=\"convertToInteractive('df-beeb88b3-b699-4082-b7a8-ecc48620e46f')\"\n",
              "              title=\"Convert this dataframe to an interactive table.\"\n",
              "              style=\"display:none;\">\n",
              "        \n",
              "  <svg xmlns=\"http://www.w3.org/2000/svg\" height=\"24px\"viewBox=\"0 0 24 24\"\n",
              "       width=\"24px\">\n",
              "    <path d=\"M0 0h24v24H0V0z\" fill=\"none\"/>\n",
              "    <path d=\"M18.56 5.44l.94 2.06.94-2.06 2.06-.94-2.06-.94-.94-2.06-.94 2.06-2.06.94zm-11 1L8.5 8.5l.94-2.06 2.06-.94-2.06-.94L8.5 2.5l-.94 2.06-2.06.94zm10 10l.94 2.06.94-2.06 2.06-.94-2.06-.94-.94-2.06-.94 2.06-2.06.94z\"/><path d=\"M17.41 7.96l-1.37-1.37c-.4-.4-.92-.59-1.43-.59-.52 0-1.04.2-1.43.59L10.3 9.45l-7.72 7.72c-.78.78-.78 2.05 0 2.83L4 21.41c.39.39.9.59 1.41.59.51 0 1.02-.2 1.41-.59l7.78-7.78 2.81-2.81c.8-.78.8-2.07 0-2.86zM5.41 20L4 18.59l7.72-7.72 1.47 1.35L5.41 20z\"/>\n",
              "  </svg>\n",
              "      </button>\n",
              "      \n",
              "  <style>\n",
              "    .colab-df-container {\n",
              "      display:flex;\n",
              "      flex-wrap:wrap;\n",
              "      gap: 12px;\n",
              "    }\n",
              "\n",
              "    .colab-df-convert {\n",
              "      background-color: #E8F0FE;\n",
              "      border: none;\n",
              "      border-radius: 50%;\n",
              "      cursor: pointer;\n",
              "      display: none;\n",
              "      fill: #1967D2;\n",
              "      height: 32px;\n",
              "      padding: 0 0 0 0;\n",
              "      width: 32px;\n",
              "    }\n",
              "\n",
              "    .colab-df-convert:hover {\n",
              "      background-color: #E2EBFA;\n",
              "      box-shadow: 0px 1px 2px rgba(60, 64, 67, 0.3), 0px 1px 3px 1px rgba(60, 64, 67, 0.15);\n",
              "      fill: #174EA6;\n",
              "    }\n",
              "\n",
              "    [theme=dark] .colab-df-convert {\n",
              "      background-color: #3B4455;\n",
              "      fill: #D2E3FC;\n",
              "    }\n",
              "\n",
              "    [theme=dark] .colab-df-convert:hover {\n",
              "      background-color: #434B5C;\n",
              "      box-shadow: 0px 1px 3px 1px rgba(0, 0, 0, 0.15);\n",
              "      filter: drop-shadow(0px 1px 2px rgba(0, 0, 0, 0.3));\n",
              "      fill: #FFFFFF;\n",
              "    }\n",
              "  </style>\n",
              "\n",
              "      <script>\n",
              "        const buttonEl =\n",
              "          document.querySelector('#df-beeb88b3-b699-4082-b7a8-ecc48620e46f button.colab-df-convert');\n",
              "        buttonEl.style.display =\n",
              "          google.colab.kernel.accessAllowed ? 'block' : 'none';\n",
              "\n",
              "        async function convertToInteractive(key) {\n",
              "          const element = document.querySelector('#df-beeb88b3-b699-4082-b7a8-ecc48620e46f');\n",
              "          const dataTable =\n",
              "            await google.colab.kernel.invokeFunction('convertToInteractive',\n",
              "                                                     [key], {});\n",
              "          if (!dataTable) return;\n",
              "\n",
              "          const docLinkHtml = 'Like what you see? Visit the ' +\n",
              "            '<a target=\"_blank\" href=https://colab.research.google.com/notebooks/data_table.ipynb>data table notebook</a>'\n",
              "            + ' to learn more about interactive tables.';\n",
              "          element.innerHTML = '';\n",
              "          dataTable['output_type'] = 'display_data';\n",
              "          await google.colab.output.renderOutput(dataTable, element);\n",
              "          const docLink = document.createElement('div');\n",
              "          docLink.innerHTML = docLinkHtml;\n",
              "          element.appendChild(docLink);\n",
              "        }\n",
              "      </script>\n",
              "    </div>\n",
              "  </div>\n",
              "  "
            ]
          },
          "metadata": {},
          "execution_count": 48
        }
      ]
    },
    {
      "cell_type": "markdown",
      "source": [
        "# 4) Features Selection"
      ],
      "metadata": {
        "id": "DbfY97e71WOL"
      }
    },
    {
      "cell_type": "code",
      "source": [
        "#cat = df[cat].drop(labels='output', axis=1).columns"
      ],
      "metadata": {
        "id": "bDIc_KqcYsB-"
      },
      "execution_count": null,
      "outputs": []
    },
    {
      "cell_type": "code",
      "source": [
        "for i in cat:\n",
        "    print(i)\n",
        "    matrix = pd.crosstab(df[i],df['output']).to_numpy()\n",
        "    print(cramers_corrected_stat(matrix))\n",
        "\n",
        "#only cholesterol has correlation with CVD\n",
        "\n",
        "for i in con:\n",
        "    print(i)\n",
        "    lr=LogisticRegression()\n",
        "    lr.fit(np.expand_dims(df[i],axis=-1),df['output'])\n",
        "    print(lr.score(np.expand_dims(df[i],axis=-1),df['output']))\n"
      ],
      "metadata": {
        "id": "TSEuj10q8j37",
        "colab": {
          "base_uri": "https://localhost:8080/"
        },
        "outputId": "939b685a-81b6-4921-b319-f5b1b1c52810"
      },
      "execution_count": null,
      "outputs": [
        {
          "output_type": "stream",
          "name": "stdout",
          "text": [
            "sex\n",
            "0.2723595387818863\n",
            "cp\n",
            "0.4989641008565132\n",
            "fbs\n",
            "0.0\n",
            "restecg\n",
            "0.156829365591162\n",
            "exng\n",
            "0.4144909577107241\n",
            "slp\n",
            "0.3797704515657343\n",
            "caa\n",
            "0.4884654999890648\n",
            "thall\n",
            "0.5264498919776031\n",
            "age\n",
            "0.6216216216216216\n",
            "trtbps\n",
            "0.5777027027027027\n",
            "chol\n",
            "0.5371621621621622\n",
            "thalachh\n",
            "0.706081081081081\n",
            "oldpeak\n",
            "0.6858108108108109\n"
          ]
        }
      ]
    },
    {
      "cell_type": "code",
      "source": [
        "#checking why fbs output = 0\n",
        "display(df.groupby('fbs')['fbs'].size())"
      ],
      "metadata": {
        "colab": {
          "base_uri": "https://localhost:8080/",
          "height": 86
        },
        "id": "m02OhNIfYXig",
        "outputId": "78e9ee69-26d3-45a9-cdab-182b2a00f7f5"
      },
      "execution_count": null,
      "outputs": [
        {
          "output_type": "display_data",
          "data": {
            "text/plain": [
              "fbs\n",
              "0    258\n",
              "1     45\n",
              "Name: fbs, dtype: int64"
            ]
          },
          "metadata": {}
        }
      ]
    },
    {
      "cell_type": "code",
      "source": [
        "fig = plt.figure(figsize=(6,6))\n",
        "gs = fig.add_gridspec(1,1)\n",
        "gs.update(wspace=0.3, hspace=0.15)\n",
        "ax0 = fig.add_subplot(gs[0,0])\n",
        "\n",
        "df_corr = df[con].corr().transpose()\n",
        "\n",
        "mask = np.triu(np.ones_like(df_corr))\n",
        "ax0.text(1.5,-0.1,\"Correlation Matrix\",fontsize=20, fontweight='bold', fontfamily='serif', color=\"#696969\")\n",
        "df_corr = df[con].corr().transpose()\n",
        "sns.heatmap(df_corr,mask=mask,fmt=\".2f\",annot=True,cmap='coolwarm')\n",
        "plt.show()"
      ],
      "metadata": {
        "colab": {
          "base_uri": "https://localhost:8080/",
          "height": 397
        },
        "id": "sfrsye6ZSIUw",
        "outputId": "11c5bcc4-6c64-4323-923e-2422846fba61"
      },
      "execution_count": 170,
      "outputs": [
        {
          "output_type": "display_data",
          "data": {
            "text/plain": [
              "<Figure size 432x432 with 2 Axes>"
            ],
            "image/png": "[encoded data removed]"
          },
          "metadata": {
            "needs_background": "light"
          }
        }
      ]
    },
    {
      "cell_type": "markdown",
      "source": [
        "# 5) Pre-processing"
      ],
      "metadata": {
        "id": "mpGLFcMK1mk4"
      }
    },
    {
      "cell_type": "code",
      "source": [
        "#select features that has the highest coleration\n",
        "X = df.drop(['output'],axis=1)\n",
        "y = df['output']\n",
        "\n",
        "X_train, X_test, y_train, y_test = train_test_split(X,y,test_size=0.3,random_state=413)"
      ],
      "metadata": {
        "id": "Abx-TehM2Eh3"
      },
      "execution_count": 147,
      "outputs": []
    },
    {
      "cell_type": "markdown",
      "source": [
        "# 6) Model Development"
      ],
      "metadata": {
        "id": "ofPnjvyu3ava"
      }
    },
    {
      "cell_type": "code",
      "source": [
        "#Pipeline to find the best model\n",
        "#Logistic Regression\n",
        "pipeline_mms_lr = Pipeline([\n",
        "                           ('Min_Max_Scaler', MinMaxScaler()),\n",
        "                           ('Logistic_Classifier', LogisticRegression())\n",
        "                           ]) # Pipeline([STEPS])\n",
        "\n",
        "\n",
        "pipeline_ss_lr = Pipeline([\n",
        "                           ('Standard_Scaler',StandardScaler()), \n",
        "                           ('Logistic_Classifier', LogisticRegression())\n",
        "                           ]) \n",
        "\n",
        "#Random Forest\n",
        "pipeline_mms_dt = Pipeline([\n",
        "                           ('Min_Max_Scaler', MinMaxScaler()),\n",
        "                           ('Decision_Tree_Classifier', DecisionTreeClassifier())\n",
        "                           ]) \n",
        "\n",
        "\n",
        "pipeline_ss_dt = Pipeline([\n",
        "                           ('Standard_Scaler',StandardScaler()), \n",
        "                           ('Decision_Tree_Classifier', DecisionTreeClassifier())\n",
        "                           ]) \n",
        "\n",
        "#SVC\n",
        "pipeline_mms_svc = Pipeline([\n",
        "                            ('Min_Max_Scaler', MinMaxScaler()),\n",
        "                            ('SVC_Classifier', SVC())\n",
        "                            ]) \n",
        "\n",
        "\n",
        "pipeline_ss_svc = Pipeline([\n",
        "                            ('Standard_Scaler', StandardScaler()),\n",
        "                            ('SVC_Classifier', SVC())\n",
        "                            ])\n",
        "#gradient boost\n",
        "pipeline_mms_gb = Pipeline([\n",
        "                            ('Min_Max_Scaler',MinMaxScaler()),\n",
        "                            ('GBoost_Classifier', GradientBoostingClassifier())\n",
        "                            ])\n",
        "\n",
        "pipeline_ss_gb = Pipeline([\n",
        "                            ('Min_Max_Scaler',StandardScaler()),\n",
        "                            ('GBoost_Classifier', GradientBoostingClassifier())\n",
        "                            ])\n",
        "\n",
        "\n",
        "#storing pipelines in a list\n",
        "pipelines = [pipeline_mms_lr, pipeline_ss_lr,\n",
        "             pipeline_mms_dt, pipeline_ss_dt, \n",
        "             pipeline_mms_svc, pipeline_ss_svc,\n",
        "             pipeline_mms_gb, pipeline_ss_gb]\n",
        "\n",
        "#fitting of data\n",
        "for pipe in pipelines:\n",
        "    pipe.fit(X_train, y_train)\n",
        "\n",
        "#create a list that store model name for reporting table, to be looped and parsed as keys\n",
        "model_name = ['MMS+Logistic Regression', 'SS+Logistic Regression', \n",
        "              'MMS+Decision Tree', 'SS+Decision Tree',\n",
        "              'MMS+SVC','SS+SVC',\n",
        "              'MMS+Gradient Boost','SS+Gradient Boost',\n",
        "              ]\n",
        "\n",
        "#dictionary to store evaluation matrics of all the pipelines\n",
        "pipe_dict =  {}\n",
        "\n",
        "best_score = 0\n",
        "\n",
        "#model evaluation\n",
        "for i, model in enumerate(pipelines):   \n",
        "    y_pred = model.predict(X_test)\n",
        "\n",
        "    pipe_dict[model_name[i]] = [accuracy_score(y_test,y_pred),\n",
        "                    f1_score(y_test,y_pred, average='weighted')]\n",
        "\n",
        "    if model.score(X_test, y_test) > best_score:\n",
        "        best_score = model.score(X_test, y_test)\n",
        "        best_pipeline = model_name[i]\n",
        "\n",
        "print('The best scaling approach for Cardiovascular Disease Prediction is {} with the accuracy of {}'.\n",
        "      format(best_pipeline,best_score))\n"
      ],
      "metadata": {
        "colab": {
          "base_uri": "https://localhost:8080/"
        },
        "id": "WXoI9Zqe3iJn",
        "outputId": "201f1d6e-9790-4c9f-a62a-c3f1aa5febe8"
      },
      "execution_count": 148,
      "outputs": [
        {
          "output_type": "stream",
          "name": "stdout",
          "text": [
            "The best scaling approach for Cardiovascular Disease Prediction is SS+Logistic Regression with the accuracy of 0.8426966292134831\n"
          ]
        }
      ]
    },
    {
      "cell_type": "code",
      "source": [
        "print(pipe_dict)\n",
        "#print(pipe_dict.keys(2)) duh! can't access key by index"
      ],
      "metadata": {
        "colab": {
          "base_uri": "https://localhost:8080/"
        },
        "id": "VWVH7NH_qd82",
        "outputId": "1cdee74b-64bf-43b7-aabb-b62eb4494d5d"
      },
      "execution_count": 140,
      "outputs": [
        {
          "output_type": "stream",
          "name": "stdout",
          "text": [
            "{'MMS+Logistic Regression': [0.8314606741573034, 0.8315884038472181], 'SS+Logistic Regression': [0.8426966292134831, 0.842776075360345], 'MMS+Decision Tree': [0.7303370786516854, 0.7305415753058928], 'SS+Decision Tree': [0.6629213483146067, 0.6630915900578822], 'MMS+SVC': [0.8089887640449438, 0.8086509899760576], 'SS+SVC': [0.8089887640449438, 0.8086509899760576], 'MMS+Gradient Boost': [0.8089887640449438, 0.8086509899760576], 'SS+Gradient Boost': [0.8089887640449438, 0.8086509899760576]}\n"
          ]
        }
      ]
    },
    {
      "cell_type": "markdown",
      "source": [
        "# Model Comparison Table"
      ],
      "metadata": {
        "id": "k6KNlKdcQe5E"
      }
    },
    {
      "cell_type": "code",
      "source": [
        "#model comparison tables\n",
        "model_comparison_df = pd.DataFrame.from_dict(pipe_dict).T\n",
        "model_comparison_df.columns = ['Accuracy', 'F1 Score']\n",
        "model_comparison_df = model_comparison_df.sort_values('F1 Score', ascending=False)\n",
        "model_comparison_df.style.background_gradient(cmap='coolwarm')\n",
        "#model_comparison_df.sort_values(by='F1 Score',ascending=False).style.highlight_max()"
      ],
      "metadata": {
        "colab": {
          "base_uri": "https://localhost:8080/",
          "height": 300
        },
        "id": "_yVGUbDIjHKO",
        "outputId": "556d8c39-b621-46ce-c387-d0078407f828"
      },
      "execution_count": 149,
      "outputs": [
        {
          "output_type": "execute_result",
          "data": {
            "text/plain": [
              "<pandas.io.formats.style.Styler at 0x7f80c0d85fd0>"
            ],
            "text/html": [
              "<style type=\"text/css\">\n",
              "#T_87ab3_row0_col0, #T_87ab3_row0_col1 {\n",
              "  background-color: #b40426;\n",
              "  color: #f1f1f1;\n",
              "}\n",
              "#T_87ab3_row1_col0, #T_87ab3_row1_col1, #T_87ab3_row2_col0, #T_87ab3_row2_col1, #T_87ab3_row3_col0, #T_87ab3_row4_col0 {\n",
              "  background-color: #f4987a;\n",
              "  color: #000000;\n",
              "}\n",
              "#T_87ab3_row3_col1, #T_87ab3_row4_col1 {\n",
              "  background-color: #f49a7b;\n",
              "  color: #000000;\n",
              "}\n",
              "#T_87ab3_row5_col0 {\n",
              "  background-color: #dddcdc;\n",
              "  color: #000000;\n",
              "}\n",
              "#T_87ab3_row5_col1 {\n",
              "  background-color: #dedcdb;\n",
              "  color: #000000;\n",
              "}\n",
              "#T_87ab3_row6_col0, #T_87ab3_row7_col0, #T_87ab3_row7_col1 {\n",
              "  background-color: #3b4cc0;\n",
              "  color: #f1f1f1;\n",
              "}\n",
              "#T_87ab3_row6_col1 {\n",
              "  background-color: #3d50c3;\n",
              "  color: #f1f1f1;\n",
              "}\n",
              "</style>\n",
              "<table id=\"T_87ab3_\" class=\"dataframe\">\n",
              "  <thead>\n",
              "    <tr>\n",
              "      <th class=\"blank level0\" >&nbsp;</th>\n",
              "      <th class=\"col_heading level0 col0\" >Accuracy</th>\n",
              "      <th class=\"col_heading level0 col1\" >F1 Score</th>\n",
              "    </tr>\n",
              "  </thead>\n",
              "  <tbody>\n",
              "    <tr>\n",
              "      <th id=\"T_87ab3_level0_row0\" class=\"row_heading level0 row0\" >SS+Logistic Regression</th>\n",
              "      <td id=\"T_87ab3_row0_col0\" class=\"data row0 col0\" >0.842697</td>\n",
              "      <td id=\"T_87ab3_row0_col1\" class=\"data row0 col1\" >0.842816</td>\n",
              "    </tr>\n",
              "    <tr>\n",
              "      <th id=\"T_87ab3_level0_row1\" class=\"row_heading level0 row1\" >MMS+Logistic Regression</th>\n",
              "      <td id=\"T_87ab3_row1_col0\" class=\"data row1 col0\" >0.808989</td>\n",
              "      <td id=\"T_87ab3_row1_col1\" class=\"data row1 col1\" >0.809134</td>\n",
              "    </tr>\n",
              "    <tr>\n",
              "      <th id=\"T_87ab3_level0_row2\" class=\"row_heading level0 row2\" >MMS+SVC</th>\n",
              "      <td id=\"T_87ab3_row2_col0\" class=\"data row2 col0\" >0.808989</td>\n",
              "      <td id=\"T_87ab3_row2_col1\" class=\"data row2 col1\" >0.808989</td>\n",
              "    </tr>\n",
              "    <tr>\n",
              "      <th id=\"T_87ab3_level0_row3\" class=\"row_heading level0 row3\" >MMS+Gradient Boost</th>\n",
              "      <td id=\"T_87ab3_row3_col0\" class=\"data row3 col0\" >0.808989</td>\n",
              "      <td id=\"T_87ab3_row3_col1\" class=\"data row3 col1\" >0.808651</td>\n",
              "    </tr>\n",
              "    <tr>\n",
              "      <th id=\"T_87ab3_level0_row4\" class=\"row_heading level0 row4\" >SS+Gradient Boost</th>\n",
              "      <td id=\"T_87ab3_row4_col0\" class=\"data row4 col0\" >0.808989</td>\n",
              "      <td id=\"T_87ab3_row4_col1\" class=\"data row4 col1\" >0.808651</td>\n",
              "    </tr>\n",
              "    <tr>\n",
              "      <th id=\"T_87ab3_level0_row5\" class=\"row_heading level0 row5\" >SS+SVC</th>\n",
              "      <td id=\"T_87ab3_row5_col0\" class=\"data row5 col0\" >0.775281</td>\n",
              "      <td id=\"T_87ab3_row5_col1\" class=\"data row5 col1\" >0.775451</td>\n",
              "    </tr>\n",
              "    <tr>\n",
              "      <th id=\"T_87ab3_level0_row6\" class=\"row_heading level0 row6\" >SS+Decision Tree</th>\n",
              "      <td id=\"T_87ab3_row6_col0\" class=\"data row6 col0\" >0.707865</td>\n",
              "      <td id=\"T_87ab3_row6_col1\" class=\"data row6 col1\" >0.708087</td>\n",
              "    </tr>\n",
              "    <tr>\n",
              "      <th id=\"T_87ab3_level0_row7\" class=\"row_heading level0 row7\" >MMS+Decision Tree</th>\n",
              "      <td id=\"T_87ab3_row7_col0\" class=\"data row7 col0\" >0.707865</td>\n",
              "      <td id=\"T_87ab3_row7_col1\" class=\"data row7 col1\" >0.706979</td>\n",
              "    </tr>\n",
              "  </tbody>\n",
              "</table>\n"
            ]
          },
          "metadata": {},
          "execution_count": 149
        }
      ]
    },
    {
      "cell_type": "markdown",
      "source": [
        "\n",
        "### Gridsearch cv\n",
        "\n"
      ],
      "metadata": {
        "id": "65KKhQUi8eTi"
      }
    },
    {
      "cell_type": "code",
      "source": [
        "from sklearn.model_selection import GridSearchCV\n",
        "#brute force to try out all combinations\n",
        "pipeline_ss_lr = Pipeline([\n",
        "                           ('Standard_Scaler',StandardScaler()), \n",
        "                           ('Logistic_Classifier', LogisticRegression())\n",
        "                           ]) "
      ],
      "metadata": {
        "id": "EXxdOBQqdSdq"
      },
      "execution_count": 151,
      "outputs": []
    },
    {
      "cell_type": "code",
      "source": [
        "pipeline_ss_lr.get_params().keys()\n",
        "#printing all hyperparameters for reference"
      ],
      "metadata": {
        "colab": {
          "base_uri": "https://localhost:8080/"
        },
        "id": "tNaXZTG7d3aD",
        "outputId": "073c98f8-1499-48c9-ce1e-739f4e37fc46"
      },
      "execution_count": 152,
      "outputs": [
        {
          "output_type": "execute_result",
          "data": {
            "text/plain": [
              "dict_keys(['memory', 'steps', 'verbose', 'Standard_Scaler', 'Logistic_Classifier', 'Standard_Scaler__copy', 'Standard_Scaler__with_mean', 'Standard_Scaler__with_std', 'Logistic_Classifier__C', 'Logistic_Classifier__class_weight', 'Logistic_Classifier__dual', 'Logistic_Classifier__fit_intercept', 'Logistic_Classifier__intercept_scaling', 'Logistic_Classifier__l1_ratio', 'Logistic_Classifier__max_iter', 'Logistic_Classifier__multi_class', 'Logistic_Classifier__n_jobs', 'Logistic_Classifier__penalty', 'Logistic_Classifier__random_state', 'Logistic_Classifier__solver', 'Logistic_Classifier__tol', 'Logistic_Classifier__verbose', 'Logistic_Classifier__warm_start'])"
            ]
          },
          "metadata": {},
          "execution_count": 152
        }
      ]
    },
    {
      "cell_type": "code",
      "source": [
        "grid_param = [{'Logistic_Classifier__C':[1.0,1.5,2.5],\n",
        "               'Logistic_Classifier__class_weight':[None,'balanced'],\n",
        "               'Logistic_Classifier__max_iter':[100,500,1000],\n",
        "               'Logistic_Classifier__random_state':[1,3,4],\n",
        "               'Logistic_Classifier__solver':['lbfgs','liblinear','sag']\n",
        "             }]\n",
        "\n",
        "grid_search = GridSearchCV(pipeline_ss_lr, grid_param, \n",
        "                                 cv=5, verbose=1, n_jobs=-1)\n",
        "\n",
        "grid = grid_search.fit(X_train, y_train)\n",
        "print(grid_search.score(X_test,y_test))\n",
        "display(grid.best_params_)\n"
      ],
      "metadata": {
        "id": "m5ogbnrQ8hsQ",
        "colab": {
          "base_uri": "https://localhost:8080/",
          "height": 139
        },
        "outputId": "a8853693-a657-4d28-ea96-af4420e6f8a3"
      },
      "execution_count": 155,
      "outputs": [
        {
          "output_type": "stream",
          "name": "stdout",
          "text": [
            "Fitting 5 folds for each of 162 candidates, totalling 810 fits\n",
            "0.8426966292134831\n"
          ]
        },
        {
          "output_type": "display_data",
          "data": {
            "text/plain": [
              "{'Logistic_Classifier__C': 1.0,\n",
              " 'Logistic_Classifier__class_weight': None,\n",
              " 'Logistic_Classifier__max_iter': 100,\n",
              " 'Logistic_Classifier__random_state': 1,\n",
              " 'Logistic_Classifier__solver': 'lbfgs'}"
            ]
          },
          "metadata": {}
        }
      ]
    },
    {
      "cell_type": "code",
      "source": [
        "#Model Evaluation\n",
        "y_pred = grid.predict(X_test)\n",
        "y_true = y_test\n",
        "\n",
        "labels = ['No Heart Attack','Heart Attack']\n",
        "cm = confusion_matrix(y_true,y_pred)\n",
        "cr = classification_report(y_true,y_pred, target_names = labels)"
      ],
      "metadata": {
        "id": "h6MsJqpygo5J"
      },
      "execution_count": 156,
      "outputs": []
    },
    {
      "cell_type": "code",
      "source": [
        "print(cr)"
      ],
      "metadata": {
        "colab": {
          "base_uri": "https://localhost:8080/"
        },
        "id": "Q3Ba1lTQg_nJ",
        "outputId": "201793e2-1214-4475-dcaf-deb1c98bf659"
      },
      "execution_count": 157,
      "outputs": [
        {
          "output_type": "stream",
          "name": "stdout",
          "text": [
            "                 precision    recall  f1-score   support\n",
            "\n",
            "No Heart Attack       0.87      0.83      0.85        47\n",
            "   Heart Attack       0.82      0.86      0.84        42\n",
            "\n",
            "       accuracy                           0.84        89\n",
            "      macro avg       0.84      0.84      0.84        89\n",
            "   weighted avg       0.84      0.84      0.84        89\n",
            "\n"
          ]
        }
      ]
    },
    {
      "cell_type": "code",
      "source": [
        "disp = ConfusionMatrixDisplay(confusion_matrix=cm,display_labels =labels)\n",
        "disp.plot(cmap='RdPu')\n",
        "plt.rcParams['figure.figsize'] = [7, 7]\n",
        "plt.show()\n",
        "\n",
        "print(classification_report)"
      ],
      "metadata": {
        "colab": {
          "base_uri": "https://localhost:8080/",
          "height": 428
        },
        "id": "muue-RqvhDUG",
        "outputId": "b7c62721-3263-433e-e9b9-131d664d89e5"
      },
      "execution_count": 158,
      "outputs": [
        {
          "output_type": "display_data",
          "data": {
            "text/plain": [
              "<Figure size 504x504 with 2 Axes>"
            ],
            "image/png": "[encoded data removed]"
          },
          "metadata": {
            "needs_background": "light"
          }
        },
        {
          "output_type": "stream",
          "name": "stdout",
          "text": [
            "<function classification_report at 0x7f80c76d7cb0>\n"
          ]
        }
      ]
    },
    {
      "cell_type": "code",
      "source": [
        "#saving the best model\n",
        "BEST_ESTIMATOR_SAVE_PATH= os.path.join(os.getcwd(),'best_estimator.pkl')\n",
        "\n",
        "with open(BEST_ESTIMATOR_SAVE_PATH, 'wb') as file:\n",
        "    pickle.dump(grid.best_estimator_,file)"
      ],
      "metadata": {
        "id": "Tu1wBVuJ8koN"
      },
      "execution_count": 160,
      "outputs": []
    },
    {
      "cell_type": "markdown",
      "source": [
        "**Zip and download from Colab**"
      ],
      "metadata": {
        "id": "l7-UCcWVpQvM"
      }
    },
    {
      "cell_type": "code",
      "source": [
        "!zip -r /content/heart.zip /content"
      ],
      "metadata": {
        "colab": {
          "base_uri": "https://localhost:8080/"
        },
        "id": "Ohn62-YXpYyF",
        "outputId": "6d6940ef-7033-4d3f-f362-4e49224a9b28"
      },
      "execution_count": 163,
      "outputs": [
        {
          "output_type": "stream",
          "name": "stdout",
          "text": [
            "  adding: content/ (stored 0%)\n",
            "  adding: content/.config/ (stored 0%)\n",
            "  adding: content/.config/.last_update_check.json (deflated 22%)\n",
            "  adding: content/.config/active_config (stored 0%)\n",
            "  adding: content/.config/logs/ (stored 0%)\n",
            "  adding: content/.config/logs/2022.07.13/ (stored 0%)\n",
            "  adding: content/.config/logs/2022.07.13/13.42.32.441281.log (deflated 54%)\n",
            "  adding: content/.config/logs/2022.07.13/13.42.53.106562.log (deflated 54%)\n",
            "  adding: content/.config/logs/2022.07.13/13.42.25.014838.log (deflated 86%)\n",
            "  adding: content/.config/logs/2022.07.13/13.42.53.841315.log (deflated 54%)\n",
            "  adding: content/.config/logs/2022.07.13/13.41.43.930690.log (deflated 91%)\n",
            "  adding: content/.config/logs/2022.07.13/13.42.05.105178.log (deflated 54%)\n",
            "  adding: content/.config/.last_survey_prompt.yaml (stored 0%)\n",
            "  adding: content/.config/gce (stored 0%)\n",
            "  adding: content/.config/.last_opt_in_prompt.yaml (stored 0%)\n",
            "  adding: content/.config/configurations/ (stored 0%)\n",
            "  adding: content/.config/configurations/config_default (deflated 15%)\n",
            "  adding: content/.config/config_sentinel (stored 0%)\n",
            "  adding: content/ha.zip (stored 0%)\n",
            "  adding: content/best_estimator.pkl (deflated 27%)\n",
            "  adding: content/heart.csv (deflated 72%)\n",
            "  adding: content/sample_data/ (stored 0%)\n",
            "  adding: content/sample_data/README.md (deflated 42%)\n",
            "  adding: content/sample_data/anscombe.json (deflated 83%)\n",
            "  adding: content/sample_data/mnist_test.csv (deflated 88%)\n",
            "  adding: content/sample_data/california_housing_train.csv (deflated 79%)\n",
            "  adding: content/sample_data/california_housing_test.csv (deflated 76%)\n",
            "  adding: content/sample_data/mnist_train_small.csv (deflated 88%)\n"
          ]
        }
      ]
    },
    {
      "cell_type": "code",
      "source": [
        "from google.colab import files\n",
        "files.download(\"/content/heart.zip\")"
      ],
      "metadata": {
        "colab": {
          "base_uri": "https://localhost:8080/",
          "height": 17
        },
        "id": "ljzr5BCwpxPq",
        "outputId": "360c8cc1-b820-4bcb-e76d-086fe2f2a71a"
      },
      "execution_count": 166,
      "outputs": [
        {
          "output_type": "display_data",
          "data": {
            "text/plain": [
              "<IPython.core.display.Javascript object>"
            ],
            "application/javascript": [
              "\n",
              "    async function download(id, filename, size) {\n",
              "      if (!google.colab.kernel.accessAllowed) {\n",
              "        return;\n",
              "      }\n",
              "      const div = document.createElement('div');\n",
              "      const label = document.createElement('label');\n",
              "      label.textContent = `Downloading \"${filename}\": `;\n",
              "      div.appendChild(label);\n",
              "      const progress = document.createElement('progress');\n",
              "      progress.max = size;\n",
              "      div.appendChild(progress);\n",
              "      document.body.appendChild(div);\n",
              "\n",
              "      const buffers = [];\n",
              "      let downloaded = 0;\n",
              "\n",
              "      const channel = await google.colab.kernel.comms.open(id);\n",
              "      // Send a message to notify the kernel that we're ready.\n",
              "      channel.send({})\n",
              "\n",
              "      for await (const message of channel.messages) {\n",
              "        // Send a message to notify the kernel that we're ready.\n",
              "        channel.send({})\n",
              "        if (message.buffers) {\n",
              "          for (const buffer of message.buffers) {\n",
              "            buffers.push(buffer);\n",
              "            downloaded += buffer.byteLength;\n",
              "            progress.value = downloaded;\n",
              "          }\n",
              "        }\n",
              "      }\n",
              "      const blob = new Blob(buffers, {type: 'application/binary'});\n",
              "      const a = document.createElement('a');\n",
              "      a.href = window.URL.createObjectURL(blob);\n",
              "      a.download = filename;\n",
              "      div.appendChild(a);\n",
              "      a.click();\n",
              "      div.remove();\n",
              "    }\n",
              "  "
            ]
          },
          "metadata": {}
        },
        {
          "output_type": "display_data",
          "data": {
            "text/plain": [
              "<IPython.core.display.Javascript object>"
            ],
            "application/javascript": [
              "download(\"download_028260db-f446-4b0a-9844-2d5807a2bd55\", \"heart.zip\", 14155996)"
            ]
          },
          "metadata": {}
        }
      ]
    },
    {
      "cell_type": "markdown",
      "source": [
        "# 7 Streamlit"
      ],
      "metadata": {
        "id": "MZyo2XQv8lyo"
      }
    },
    {
      "cell_type": "markdown",
      "source": [
        "Writing app.py file\n"
      ],
      "metadata": {
        "id": "icd7vnIo8QDm"
      }
    },
    {
      "cell_type": "code",
      "source": [
        "%%writefile app.py\n",
        "\n",
        "import os\n",
        "import pickle\n",
        "import numpy as np\n",
        "import streamlit as st\n",
        "import pandas as pd\n",
        "\n",
        "\n",
        "#%% deployment\n",
        "MODEL_PATH = os.path.join(os.getcwd(),'best_estimator.pkl')\n",
        "\n",
        "with open(MODEL_PATH,'rb') as file:\n",
        "    model = pickle.load(file)\n",
        "\n",
        "# Cholesterol 1,2,3\n",
        "# ap_hi : \n",
        "# ap_lo\n",
        "# new_data = [cholesterol,ap_hi,ap_lo]\n",
        "# new_data = np.expand_dims([2,200,110],axis=0)\n",
        "# outcome = model.predict(new_data)[0]\n",
        "\n",
        "\n",
        "with st.form(\"Heart Attack Predictor App\"):\n",
        "    chol = st.selectbox('Cholesterol Level: 1: normal, 2: above normal, 3: well above normal', (1,2,3))\n",
        "    sys = st.number_input('Systolic BP')\n",
        "    dia = st.number_input('Diastolic BP')\n",
        "\n",
        "    # Every form must have a submit button.\n",
        "    submitted = st.form_submit_button(\"Submit\")\n",
        "    if submitted:\n",
        "        new_data = np.expand_dims([chol,sys,dia],axis=0)\n",
        "        outcome = model.predict(new_data)[0]\n",
        "        \n",
        "        if outcome == 0:\n",
        "            st.write('Congrats you are healthy, keep it up')\n",
        "            st.balloons()\n",
        "        else:\n",
        "            st.write('Start Exercising now!!!')\n",
        "            st.snow()\n",
        "\n"
      ],
      "metadata": {
        "colab": {
          "base_uri": "https://localhost:8080/"
        },
        "id": "lnMRSMDddfle",
        "outputId": "f30988d6-23f0-4468-c0f9-88b980d3ba32"
      },
      "execution_count": null,
      "outputs": [
        {
          "output_type": "stream",
          "name": "stdout",
          "text": [
            "Overwriting app.py\n"
          ]
        }
      ]
    }
  ]
}